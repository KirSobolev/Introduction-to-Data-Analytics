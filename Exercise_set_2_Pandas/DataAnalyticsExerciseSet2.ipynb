{
 "cells": [
  {
   "attachments": {},
   "cell_type": "markdown",
   "metadata": {},
   "source": [
    "<h3><b>Introduction to Data Analytics - Exercise set 2 - pandas-module</b></h3>"
   ]
  },
  {
   "attachments": {},
   "cell_type": "markdown",
   "metadata": {},
   "source": [
    "Put all your exercises (Jupyter Notebooks or Python-files) in your course Git-project.\n",
    "Use either code comments or Jupyter Notebook markdown (text) to document which exercise you are doing and what a certain code section does! \n",
    "You can return all of these exercises in a single Jupyter Notebook, if you wish."
   ]
  },
  {
   "attachments": {},
   "cell_type": "markdown",
   "metadata": {},
   "source": [
    "<b>The datasets for these exercises have been collected from kaggle.com<br />\n",
    "(a service providing different datasets for practice)</b>\n",
    "\n",
    "<img src=\"http://srv.plab.fi/~tuomasv/data_analytics_2023_images/exercise_set_2/es2_1.png\" />"
   ]
  },
  {
   "attachments": {},
   "cell_type": "markdown",
   "metadata": {},
   "source": [
    "<h4><b>1. import pandas and read the csv-file found in Moodle (loans.csv). Use Python coding with pandas to answer the questions.</b></h4>\n"
   ]
  },
  {
   "cell_type": "code",
   "execution_count": 1,
   "metadata": {},
   "outputs": [],
   "source": [
    "# Importing pandas and csv file\n",
    "import pandas as pd\n",
    "file = 'loans.csv'\n",
    "df = pd.read_csv(file)\n",
    "\n",
    "# Also let's get rid of whitespaces and change them to underscores\n",
    "df.columns = df.columns.str.replace(\" \", \"_\")"
   ]
  },
  {
   "attachments": {},
   "cell_type": "markdown",
   "metadata": {},
   "source": [
    "<li>Remove the Customer ID –column from data</li>\n",
    "<li>Print the head of the data</li>"
   ]
  },
  {
   "cell_type": "code",
   "execution_count": 2,
   "metadata": {},
   "outputs": [],
   "source": [
    "# Remove the column\n",
    "df.drop('Customer_ID', axis=1, inplace=True)"
   ]
  },
  {
   "cell_type": "code",
   "execution_count": 3,
   "metadata": {},
   "outputs": [
    {
     "data": {
      "text/html": [
       "<div>\n",
       "<style scoped>\n",
       "    .dataframe tbody tr th:only-of-type {\n",
       "        vertical-align: middle;\n",
       "    }\n",
       "\n",
       "    .dataframe tbody tr th {\n",
       "        vertical-align: top;\n",
       "    }\n",
       "\n",
       "    .dataframe thead th {\n",
       "        text-align: right;\n",
       "    }\n",
       "</style>\n",
       "<table border=\"1\" class=\"dataframe\">\n",
       "  <thead>\n",
       "    <tr style=\"text-align: right;\">\n",
       "      <th></th>\n",
       "      <th>Loan_ID</th>\n",
       "      <th>Loan_Status</th>\n",
       "      <th>Current_Loan_Amount</th>\n",
       "      <th>Term</th>\n",
       "      <th>Credit_Score</th>\n",
       "      <th>Annual_Income</th>\n",
       "      <th>Years_in_current_job</th>\n",
       "      <th>Home_Ownership</th>\n",
       "      <th>Purpose</th>\n",
       "      <th>Monthly_Debt</th>\n",
       "      <th>Years_of_Credit_History</th>\n",
       "      <th>Months_since_last_delinquent</th>\n",
       "      <th>Number_of_Open_Accounts</th>\n",
       "      <th>Number_of_Credit_Problems</th>\n",
       "      <th>Current_Credit_Balance</th>\n",
       "      <th>Maximum_Open_Credit</th>\n",
       "      <th>Bankruptcies</th>\n",
       "      <th>Tax_Liens</th>\n",
       "    </tr>\n",
       "  </thead>\n",
       "  <tbody>\n",
       "    <tr>\n",
       "      <th>0</th>\n",
       "      <td>14dd8831-6af5-400b-83ec-68e61888a048</td>\n",
       "      <td>Fully Paid</td>\n",
       "      <td>445412.0</td>\n",
       "      <td>Short Term</td>\n",
       "      <td>709.0</td>\n",
       "      <td>1167493.0</td>\n",
       "      <td>8 years</td>\n",
       "      <td>Home Mortgage</td>\n",
       "      <td>Home Improvements</td>\n",
       "      <td>5214.74</td>\n",
       "      <td>17.2</td>\n",
       "      <td>NaN</td>\n",
       "      <td>6.0</td>\n",
       "      <td>1.0</td>\n",
       "      <td>228190.0</td>\n",
       "      <td>416746.0</td>\n",
       "      <td>1.0</td>\n",
       "      <td>0.0</td>\n",
       "    </tr>\n",
       "    <tr>\n",
       "      <th>1</th>\n",
       "      <td>4771cc26-131a-45db-b5aa-537ea4ba5342</td>\n",
       "      <td>Fully Paid</td>\n",
       "      <td>262328.0</td>\n",
       "      <td>Short Term</td>\n",
       "      <td>NaN</td>\n",
       "      <td>NaN</td>\n",
       "      <td>10+ years</td>\n",
       "      <td>Home Mortgage</td>\n",
       "      <td>Debt Consolidation</td>\n",
       "      <td>33295.98</td>\n",
       "      <td>21.1</td>\n",
       "      <td>8.0</td>\n",
       "      <td>35.0</td>\n",
       "      <td>0.0</td>\n",
       "      <td>229976.0</td>\n",
       "      <td>850784.0</td>\n",
       "      <td>0.0</td>\n",
       "      <td>0.0</td>\n",
       "    </tr>\n",
       "    <tr>\n",
       "      <th>2</th>\n",
       "      <td>4eed4e6a-aa2f-4c91-8651-ce984ee8fb26</td>\n",
       "      <td>Fully Paid</td>\n",
       "      <td>99999999.0</td>\n",
       "      <td>Short Term</td>\n",
       "      <td>741.0</td>\n",
       "      <td>2231892.0</td>\n",
       "      <td>8 years</td>\n",
       "      <td>Own Home</td>\n",
       "      <td>Debt Consolidation</td>\n",
       "      <td>29200.53</td>\n",
       "      <td>14.9</td>\n",
       "      <td>29.0</td>\n",
       "      <td>18.0</td>\n",
       "      <td>1.0</td>\n",
       "      <td>297996.0</td>\n",
       "      <td>750090.0</td>\n",
       "      <td>0.0</td>\n",
       "      <td>0.0</td>\n",
       "    </tr>\n",
       "    <tr>\n",
       "      <th>3</th>\n",
       "      <td>77598f7b-32e7-4e3b-a6e5-06ba0d98fe8a</td>\n",
       "      <td>Fully Paid</td>\n",
       "      <td>347666.0</td>\n",
       "      <td>Long Term</td>\n",
       "      <td>721.0</td>\n",
       "      <td>806949.0</td>\n",
       "      <td>3 years</td>\n",
       "      <td>Own Home</td>\n",
       "      <td>Debt Consolidation</td>\n",
       "      <td>8741.90</td>\n",
       "      <td>12.0</td>\n",
       "      <td>NaN</td>\n",
       "      <td>9.0</td>\n",
       "      <td>0.0</td>\n",
       "      <td>256329.0</td>\n",
       "      <td>386958.0</td>\n",
       "      <td>0.0</td>\n",
       "      <td>0.0</td>\n",
       "    </tr>\n",
       "    <tr>\n",
       "      <th>4</th>\n",
       "      <td>d4062e70-befa-4995-8643-a0de73938182</td>\n",
       "      <td>Fully Paid</td>\n",
       "      <td>176220.0</td>\n",
       "      <td>Short Term</td>\n",
       "      <td>NaN</td>\n",
       "      <td>NaN</td>\n",
       "      <td>5 years</td>\n",
       "      <td>Rent</td>\n",
       "      <td>Debt Consolidation</td>\n",
       "      <td>20639.70</td>\n",
       "      <td>6.1</td>\n",
       "      <td>NaN</td>\n",
       "      <td>15.0</td>\n",
       "      <td>0.0</td>\n",
       "      <td>253460.0</td>\n",
       "      <td>427174.0</td>\n",
       "      <td>0.0</td>\n",
       "      <td>0.0</td>\n",
       "    </tr>\n",
       "  </tbody>\n",
       "</table>\n",
       "</div>"
      ],
      "text/plain": [
       "                                Loan_ID Loan_Status  Current_Loan_Amount  \\\n",
       "0  14dd8831-6af5-400b-83ec-68e61888a048  Fully Paid             445412.0   \n",
       "1  4771cc26-131a-45db-b5aa-537ea4ba5342  Fully Paid             262328.0   \n",
       "2  4eed4e6a-aa2f-4c91-8651-ce984ee8fb26  Fully Paid           99999999.0   \n",
       "3  77598f7b-32e7-4e3b-a6e5-06ba0d98fe8a  Fully Paid             347666.0   \n",
       "4  d4062e70-befa-4995-8643-a0de73938182  Fully Paid             176220.0   \n",
       "\n",
       "         Term  Credit_Score  Annual_Income Years_in_current_job  \\\n",
       "0  Short Term         709.0      1167493.0              8 years   \n",
       "1  Short Term           NaN            NaN            10+ years   \n",
       "2  Short Term         741.0      2231892.0              8 years   \n",
       "3   Long Term         721.0       806949.0              3 years   \n",
       "4  Short Term           NaN            NaN              5 years   \n",
       "\n",
       "  Home_Ownership             Purpose  Monthly_Debt  Years_of_Credit_History  \\\n",
       "0  Home Mortgage   Home Improvements       5214.74                     17.2   \n",
       "1  Home Mortgage  Debt Consolidation      33295.98                     21.1   \n",
       "2       Own Home  Debt Consolidation      29200.53                     14.9   \n",
       "3       Own Home  Debt Consolidation       8741.90                     12.0   \n",
       "4           Rent  Debt Consolidation      20639.70                      6.1   \n",
       "\n",
       "   Months_since_last_delinquent  Number_of_Open_Accounts  \\\n",
       "0                           NaN                      6.0   \n",
       "1                           8.0                     35.0   \n",
       "2                          29.0                     18.0   \n",
       "3                           NaN                      9.0   \n",
       "4                           NaN                     15.0   \n",
       "\n",
       "   Number_of_Credit_Problems  Current_Credit_Balance  Maximum_Open_Credit  \\\n",
       "0                        1.0                228190.0             416746.0   \n",
       "1                        0.0                229976.0             850784.0   \n",
       "2                        1.0                297996.0             750090.0   \n",
       "3                        0.0                256329.0             386958.0   \n",
       "4                        0.0                253460.0             427174.0   \n",
       "\n",
       "   Bankruptcies  Tax_Liens  \n",
       "0           1.0        0.0  \n",
       "1           0.0        0.0  \n",
       "2           0.0        0.0  \n",
       "3           0.0        0.0  \n",
       "4           0.0        0.0  "
      ]
     },
     "execution_count": 3,
     "metadata": {},
     "output_type": "execute_result"
    }
   ],
   "source": [
    "# Print head\n",
    "df.head()"
   ]
  },
  {
   "attachments": {},
   "cell_type": "markdown",
   "metadata": {},
   "source": [
    "<li>Remove rows from the data that have <b style=\"color: red;\">a too large of a loan</b> (Current Loan Amount should be less than 99999999)</li>"
   ]
  },
  {
   "cell_type": "code",
   "execution_count": 4,
   "metadata": {},
   "outputs": [],
   "source": [
    "# remove loans that are too large\n",
    "df = df[df['Current_Loan_Amount'] < 99999999]\n"
   ]
  },
  {
   "attachments": {},
   "cell_type": "markdown",
   "metadata": {},
   "source": [
    "<ul>\n",
    "    <li>Remove rows that have the annual income as NaN (not a number)</li>\n",
    "    <ul>\n",
    "        <li><b>Extra task:</b> use imputation to use average income as the value instead of NaN</li>\n",
    "    </ul>\n",
    "</ul>"
   ]
  },
  {
   "cell_type": "code",
   "execution_count": 5,
   "metadata": {},
   "outputs": [
    {
     "name": "stdout",
     "output_type": "stream",
     "text": [
      "NaN values before - 19154\n",
      "Average annual income is around 1373246\n",
      "NaN values after - 0\n"
     ]
    }
   ],
   "source": [
    "# remove rows if annual income is NaN\n",
    "#Let's find out how many NaN values we have first\n",
    "print(f\"NaN values before - {df['Annual_Income'].isnull().sum()}\")\n",
    "\n",
    "# Then find out what's the average income\n",
    "average_income = df['Annual_Income'].mean()\n",
    "print(f\"Average annual income is around {round(average_income)}\")\n",
    "\n",
    "# And fill it in with fillna() method.\n",
    "df['Annual_Income'].fillna(average_income, inplace=True)\n",
    "\n",
    "print(f\"NaN values after - {df['Annual_Income'].isnull().sum()}\")"
   ]
  },
  {
   "attachments": {},
   "cell_type": "markdown",
   "metadata": {},
   "source": [
    "<li>Get the average Current Loan Amount</li>"
   ]
  },
  {
   "cell_type": "code",
   "execution_count": 6,
   "metadata": {},
   "outputs": [
    {
     "name": "stdout",
     "output_type": "stream",
     "text": [
      "312314\n"
     ]
    }
   ],
   "source": [
    "# Get the average current loan using mean() method.\n",
    "avg_loan = df['Current_Loan_Amount'].mean()\n",
    "print(round(avg_loan))"
   ]
  },
  {
   "attachments": {},
   "cell_type": "markdown",
   "metadata": {},
   "source": [
    "<li>Get the highest and lowest Annual Income in the dataset</li>"
   ]
  },
  {
   "cell_type": "code",
   "execution_count": 7,
   "metadata": {},
   "outputs": [
    {
     "name": "stdout",
     "output_type": "stream",
     "text": [
      "Highest annual income - 165557393.0\n",
      "Lowest annual income - 76627.0\n"
     ]
    }
   ],
   "source": [
    "# get highest and lowest annual income in dataset\n",
    "highest_income = df['Annual_Income'].max()\n",
    "lowest_income = df['Annual_Income'].min()\n",
    "print(f\"Highest annual income - {highest_income}\\n\"\n",
    "      f\"Lowest annual income - {lowest_income}\")"
   ]
  },
  {
   "attachments": {},
   "cell_type": "markdown",
   "metadata": {},
   "source": [
    "<li>Get the Home Ownership value of the <b>Loan ID = bbf87a87-22cd-4d10-bd9b-7a9cc1b6e59d</b></li>"
   ]
  },
  {
   "cell_type": "code",
   "execution_count": 8,
   "metadata": {},
   "outputs": [
    {
     "data": {
      "text/plain": [
       "491    Own Home\n",
       "Name: Home_Ownership, dtype: object"
      ]
     },
     "execution_count": 8,
     "metadata": {},
     "output_type": "execute_result"
    }
   ],
   "source": [
    "# get the needed value with the Loan ID\n",
    "\n",
    "df['Home_Ownership'][df['Loan_ID'] == \"bbf87a87-22cd-4d10-bd9b-7a9cc1b6e59d\"]"
   ]
  },
  {
   "attachments": {},
   "cell_type": "markdown",
   "metadata": {},
   "source": [
    "<li>Get the Actual Annual Income of the loan with the <b>ID = 76fa89b9-e6a8-49af-afa1-8151315aba8e</b></li>\n",
    "<br><b>Note:</b> The Actual Annual Income should be :\n",
    "<b style=\"color: green\">Annual Income – 12 * Monthly Debt</b><br><br>\n",
    "<b>Tip:</b> Create a new field with the above instruction to the DataFrame.\n"
   ]
  },
  {
   "cell_type": "code",
   "execution_count": 9,
   "metadata": {},
   "outputs": [
    {
     "data": {
      "text/plain": [
       "109     674234.76\n",
       "2216    674234.76\n",
       "Name: Actuall_Annual_Income, dtype: float64"
      ]
     },
     "execution_count": 9,
     "metadata": {},
     "output_type": "execute_result"
    }
   ],
   "source": [
    "# create a new field for Actual Annual income (annual income - 12 * monthly debt)\n",
    "df['Actuall_Annual_Income'] = df['Annual_Income'] - df['Monthly_Debt'] * 12\n",
    "# get the Actual Annual income for the needed ID\n",
    "df['Actuall_Annual_Income'][df['Loan_ID'] == \"76fa89b9-e6a8-49af-afa1-8151315aba8e\"]\n",
    "\n",
    "# Seems like we have duplicated row here"
   ]
  },
  {
   "attachments": {},
   "cell_type": "markdown",
   "metadata": {},
   "source": [
    "<li>Get the Loan ID of the loan with the smallest Actual Annual Income </li>"
   ]
  },
  {
   "cell_type": "code",
   "execution_count": 10,
   "metadata": {},
   "outputs": [
    {
     "data": {
      "text/plain": [
       "11648    0a84b8ab-ed2f-474f-a3a9-8bf5bb90c31a\n",
       "Name: Loan_ID, dtype: object"
      ]
     },
     "execution_count": 10,
     "metadata": {},
     "output_type": "execute_result"
    }
   ],
   "source": [
    "# get loan ID of lowest actual annual income\n",
    "lowest_actual_income = df['Actuall_Annual_Income'].min()\n",
    "df['Loan_ID'][df['Actuall_Annual_Income'] == lowest_actual_income]"
   ]
  },
  {
   "attachments": {},
   "cell_type": "markdown",
   "metadata": {},
   "source": [
    "<li>How many loans are \"Long term\"?</li>"
   ]
  },
  {
   "cell_type": "code",
   "execution_count": 11,
   "metadata": {},
   "outputs": [
    {
     "name": "stdout",
     "output_type": "stream",
     "text": [
      "25475\n"
     ]
    }
   ],
   "source": [
    "# produce code that shows many loans are long term\n",
    "print(len(df[df['Term'] == 'Long Term']))"
   ]
  },
  {
   "attachments": {},
   "cell_type": "markdown",
   "metadata": {},
   "source": [
    "<li>How many loaners have more than 1 bankruptcy?</li>"
   ]
  },
  {
   "cell_type": "code",
   "execution_count": 12,
   "metadata": {},
   "outputs": [
    {
     "name": "stdout",
     "output_type": "stream",
     "text": [
      "476\n"
     ]
    }
   ],
   "source": [
    "# produce code that shows how many loaners have more than 1 bankruptcy\n",
    "print(len(df[df['Bankruptcies'] > 1]))"
   ]
  },
  {
   "attachments": {},
   "cell_type": "markdown",
   "metadata": {},
   "source": [
    "<li>How many Short Term loans are for Home Improvements?</li>"
   ]
  },
  {
   "cell_type": "code",
   "execution_count": 13,
   "metadata": {},
   "outputs": [
    {
     "name": "stdout",
     "output_type": "stream",
     "text": [
      "3490\n"
     ]
    }
   ],
   "source": [
    "# produce code that shows how many of the Short Term loans are for Home Improvements\n",
    "print(len(df[(df['Term'] == \"Short Term\") & (df['Purpose'] == \"Home Improvements\")]))\n",
    "\n",
    "# and operator didn't work in this case. Googling for the solution ended up here:\n",
    "# The or and and Python statements require truth-values. \n",
    "# For pandas, these are considered ambiguous, \n",
    "# so you should use \"bitwise\" | (or) or & (and) operations:"
   ]
  },
  {
   "attachments": {},
   "cell_type": "markdown",
   "metadata": {},
   "source": [
    "<li>How many unique loan purposes are there?</li>"
   ]
  },
  {
   "cell_type": "code",
   "execution_count": 14,
   "metadata": {},
   "outputs": [
    {
     "name": "stdout",
     "output_type": "stream",
     "text": [
      "16\n"
     ]
    }
   ],
   "source": [
    "# produce code that shows how many unique loan purposes there are\n",
    "print(len(df.groupby('Purpose')))"
   ]
  },
  {
   "cell_type": "code",
   "execution_count": 15,
   "metadata": {},
   "outputs": [
    {
     "data": {
      "text/plain": [
       "array(['Home Improvements', 'Debt Consolidation', 'Buy House', 'other',\n",
       "       'Buy a Car', 'major_purchase', 'Take a Trip', 'Other',\n",
       "       'Business Loan', 'small_business', 'Medical Bills', 'vacation',\n",
       "       'Educational Expenses', 'wedding', 'moving', 'renewable_energy'],\n",
       "      dtype=object)"
      ]
     },
     "execution_count": 15,
     "metadata": {},
     "output_type": "execute_result"
    }
   ],
   "source": [
    "# Or using unique() method\n",
    "df['Purpose'].unique()"
   ]
  },
  {
   "attachments": {},
   "cell_type": "markdown",
   "metadata": {},
   "source": [
    "<li>What are the 3 most common loan purposes?</li>"
   ]
  },
  {
   "cell_type": "code",
   "execution_count": 16,
   "metadata": {},
   "outputs": [
    {
     "data": {
      "text/html": [
       "<div>\n",
       "<style scoped>\n",
       "    .dataframe tbody tr th:only-of-type {\n",
       "        vertical-align: middle;\n",
       "    }\n",
       "\n",
       "    .dataframe tbody tr th {\n",
       "        vertical-align: top;\n",
       "    }\n",
       "\n",
       "    .dataframe thead th {\n",
       "        text-align: right;\n",
       "    }\n",
       "</style>\n",
       "<table border=\"1\" class=\"dataframe\">\n",
       "  <thead>\n",
       "    <tr style=\"text-align: right;\">\n",
       "      <th></th>\n",
       "      <th>Loan_ID</th>\n",
       "      <th>Loan_Status</th>\n",
       "      <th>Current_Loan_Amount</th>\n",
       "      <th>Term</th>\n",
       "      <th>Credit_Score</th>\n",
       "      <th>Annual_Income</th>\n",
       "      <th>Years_in_current_job</th>\n",
       "      <th>Home_Ownership</th>\n",
       "      <th>Monthly_Debt</th>\n",
       "      <th>Years_of_Credit_History</th>\n",
       "      <th>Months_since_last_delinquent</th>\n",
       "      <th>Number_of_Open_Accounts</th>\n",
       "      <th>Number_of_Credit_Problems</th>\n",
       "      <th>Current_Credit_Balance</th>\n",
       "      <th>Maximum_Open_Credit</th>\n",
       "      <th>Bankruptcies</th>\n",
       "      <th>Tax_Liens</th>\n",
       "      <th>Actuall_Annual_Income</th>\n",
       "    </tr>\n",
       "    <tr>\n",
       "      <th>Purpose</th>\n",
       "      <th></th>\n",
       "      <th></th>\n",
       "      <th></th>\n",
       "      <th></th>\n",
       "      <th></th>\n",
       "      <th></th>\n",
       "      <th></th>\n",
       "      <th></th>\n",
       "      <th></th>\n",
       "      <th></th>\n",
       "      <th></th>\n",
       "      <th></th>\n",
       "      <th></th>\n",
       "      <th></th>\n",
       "      <th></th>\n",
       "      <th></th>\n",
       "      <th></th>\n",
       "      <th></th>\n",
       "    </tr>\n",
       "  </thead>\n",
       "  <tbody>\n",
       "    <tr>\n",
       "      <th>Debt Consolidation</th>\n",
       "      <td>69506</td>\n",
       "      <td>69506</td>\n",
       "      <td>69506</td>\n",
       "      <td>69506</td>\n",
       "      <td>54268</td>\n",
       "      <td>69506</td>\n",
       "      <td>66670</td>\n",
       "      <td>69506</td>\n",
       "      <td>69506</td>\n",
       "      <td>69506</td>\n",
       "      <td>32334</td>\n",
       "      <td>69506</td>\n",
       "      <td>69506</td>\n",
       "      <td>69506</td>\n",
       "      <td>69504</td>\n",
       "      <td>69401</td>\n",
       "      <td>69500</td>\n",
       "      <td>69506</td>\n",
       "    </tr>\n",
       "    <tr>\n",
       "      <th>other</th>\n",
       "      <td>5409</td>\n",
       "      <td>5409</td>\n",
       "      <td>5409</td>\n",
       "      <td>5409</td>\n",
       "      <td>4389</td>\n",
       "      <td>5409</td>\n",
       "      <td>5094</td>\n",
       "      <td>5409</td>\n",
       "      <td>5409</td>\n",
       "      <td>5409</td>\n",
       "      <td>2662</td>\n",
       "      <td>5409</td>\n",
       "      <td>5409</td>\n",
       "      <td>5409</td>\n",
       "      <td>5409</td>\n",
       "      <td>5384</td>\n",
       "      <td>5408</td>\n",
       "      <td>5409</td>\n",
       "    </tr>\n",
       "    <tr>\n",
       "      <th>Home Improvements</th>\n",
       "      <td>5124</td>\n",
       "      <td>5124</td>\n",
       "      <td>5124</td>\n",
       "      <td>5124</td>\n",
       "      <td>4005</td>\n",
       "      <td>5124</td>\n",
       "      <td>4846</td>\n",
       "      <td>5124</td>\n",
       "      <td>5124</td>\n",
       "      <td>5124</td>\n",
       "      <td>2767</td>\n",
       "      <td>5124</td>\n",
       "      <td>5124</td>\n",
       "      <td>5124</td>\n",
       "      <td>5124</td>\n",
       "      <td>5117</td>\n",
       "      <td>5123</td>\n",
       "      <td>5124</td>\n",
       "    </tr>\n",
       "  </tbody>\n",
       "</table>\n",
       "</div>"
      ],
      "text/plain": [
       "                    Loan_ID  Loan_Status  Current_Loan_Amount   Term  \\\n",
       "Purpose                                                                \n",
       "Debt Consolidation    69506        69506                69506  69506   \n",
       "other                  5409         5409                 5409   5409   \n",
       "Home Improvements      5124         5124                 5124   5124   \n",
       "\n",
       "                    Credit_Score  Annual_Income  Years_in_current_job  \\\n",
       "Purpose                                                                 \n",
       "Debt Consolidation         54268          69506                 66670   \n",
       "other                       4389           5409                  5094   \n",
       "Home Improvements           4005           5124                  4846   \n",
       "\n",
       "                    Home_Ownership  Monthly_Debt  Years_of_Credit_History  \\\n",
       "Purpose                                                                     \n",
       "Debt Consolidation           69506         69506                    69506   \n",
       "other                         5409          5409                     5409   \n",
       "Home Improvements             5124          5124                     5124   \n",
       "\n",
       "                    Months_since_last_delinquent  Number_of_Open_Accounts  \\\n",
       "Purpose                                                                     \n",
       "Debt Consolidation                         32334                    69506   \n",
       "other                                       2662                     5409   \n",
       "Home Improvements                           2767                     5124   \n",
       "\n",
       "                    Number_of_Credit_Problems  Current_Credit_Balance  \\\n",
       "Purpose                                                                 \n",
       "Debt Consolidation                      69506                   69506   \n",
       "other                                    5409                    5409   \n",
       "Home Improvements                        5124                    5124   \n",
       "\n",
       "                    Maximum_Open_Credit  Bankruptcies  Tax_Liens  \\\n",
       "Purpose                                                            \n",
       "Debt Consolidation                69504         69401      69500   \n",
       "other                              5409          5384       5408   \n",
       "Home Improvements                  5124          5117       5123   \n",
       "\n",
       "                    Actuall_Annual_Income  \n",
       "Purpose                                    \n",
       "Debt Consolidation                  69506  \n",
       "other                                5409  \n",
       "Home Improvements                    5124  "
      ]
     },
     "execution_count": 16,
     "metadata": {},
     "output_type": "execute_result"
    }
   ],
   "source": [
    "# produce code that shows the 3 most common loan purposes\n",
    "# Firstly data is grouped by purpose, then counted and sorted.\n",
    "df.groupby('Purpose').count().sort_values('Loan_ID', ascending=False)[:3]\n"
   ]
  },
  {
   "attachments": {},
   "cell_type": "markdown",
   "metadata": {},
   "source": [
    "<li>Is there a correlation between <b>Annual Income</b> and <b>Number of Open Accounts</b> or is there a correlation between <b>Number of Credit Problems</b> and <b>Bankruptcies</b>?</li>"
   ]
  },
  {
   "cell_type": "code",
   "execution_count": 17,
   "metadata": {},
   "outputs": [
    {
     "data": {
      "text/plain": [
       "0.12705769402525527"
      ]
     },
     "execution_count": 17,
     "metadata": {},
     "output_type": "execute_result"
    }
   ],
   "source": [
    "# produce code that shows which correlation statement is true\n",
    "# The correlation here is quite weak\n",
    "df['Annual_Income'].corr(df['Number_of_Open_Accounts'])"
   ]
  },
  {
   "attachments": {},
   "cell_type": "markdown",
   "metadata": {},
   "source": [
    "<h4><b>2. Download the purchases.csv from Moodle, and do the following observations:</b></h4>\n"
   ]
  },
  {
   "cell_type": "code",
   "execution_count": 18,
   "metadata": {},
   "outputs": [],
   "source": [
    "# Loading data set\n",
    "df2 = pd.read_csv('purchases.csv')\n",
    "# Removing white spaces from column names\n",
    "df2.columns = df2.columns.str.replace(\" \", \"_\")\n"
   ]
  },
  {
   "attachments": {},
   "cell_type": "markdown",
   "metadata": {},
   "source": [
    "<li>What was the total price sum of the Purchase Order Number 018H2015? (14 rows in total)</li>"
   ]
  },
  {
   "cell_type": "code",
   "execution_count": 19,
   "metadata": {},
   "outputs": [
    {
     "data": {
      "text/plain": [
       "1245.0400000000002"
      ]
     },
     "execution_count": 19,
     "metadata": {},
     "output_type": "execute_result"
    }
   ],
   "source": [
    "# produce the code that gets the needed total price sum\n",
    "df2[df2[\"Purchase_Order_Number\"] == \"018H2015\"]['Total_Price'].sum()\n"
   ]
  },
  {
   "attachments": {},
   "cell_type": "markdown",
   "metadata": {},
   "source": [
    "<li>What is the name and description of the purchased item with the Purchase Order Number 3176273?</li>"
   ]
  },
  {
   "cell_type": "code",
   "execution_count": 20,
   "metadata": {},
   "outputs": [
    {
     "data": {
      "text/html": [
       "<div>\n",
       "<style scoped>\n",
       "    .dataframe tbody tr th:only-of-type {\n",
       "        vertical-align: middle;\n",
       "    }\n",
       "\n",
       "    .dataframe tbody tr th {\n",
       "        vertical-align: top;\n",
       "    }\n",
       "\n",
       "    .dataframe thead th {\n",
       "        text-align: right;\n",
       "    }\n",
       "</style>\n",
       "<table border=\"1\" class=\"dataframe\">\n",
       "  <thead>\n",
       "    <tr style=\"text-align: right;\">\n",
       "      <th></th>\n",
       "      <th>Item_Name</th>\n",
       "      <th>Item_Description</th>\n",
       "    </tr>\n",
       "  </thead>\n",
       "  <tbody>\n",
       "    <tr>\n",
       "      <th>103</th>\n",
       "      <td>PC Desktop</td>\n",
       "      <td>HP Prodesk 600</td>\n",
       "    </tr>\n",
       "  </tbody>\n",
       "</table>\n",
       "</div>"
      ],
      "text/plain": [
       "      Item_Name Item_Description\n",
       "103  PC Desktop   HP Prodesk 600"
      ]
     },
     "execution_count": 20,
     "metadata": {},
     "output_type": "execute_result"
    }
   ],
   "source": [
    "# produce the code that gets the needed name and description\n",
    "df2[df2['Purchase_Order_Number'] == '3176273'][['Item_Name', 'Item_Description']]"
   ]
  },
  {
   "attachments": {},
   "cell_type": "markdown",
   "metadata": {},
   "source": [
    "<li>How many occasions (rows) of purchase data happened during the year 2013?</li>"
   ]
  },
  {
   "cell_type": "code",
   "execution_count": 21,
   "metadata": {},
   "outputs": [
    {
     "data": {
      "text/plain": [
       "34024"
      ]
     },
     "execution_count": 21,
     "metadata": {},
     "output_type": "execute_result"
    }
   ],
   "source": [
    "# produce the code that filters the needed data for year 2013\n",
    "\n",
    "# Let's transfer data type of Purchase_Date from string to datetime type. \n",
    "# There are some impossible values such as year 2510 in the dataset, that's why errors='coerce' is used.\n",
    "# Basically it replaces impossible values with NaN.\n",
    "df2['Purchase_Date'] = pd.to_datetime(df2['Purchase_Date'], format='%m/%d/%Y', errors='coerce')\n",
    "# Then let's create new Year column\n",
    "df2['Year'] = df2['Purchase_Date'].dt.year\n",
    "# And let's find how many ocassions there are\n",
    "len(df2[df2['Year'] == 2013])"
   ]
  },
  {
   "attachments": {},
   "cell_type": "markdown",
   "metadata": {},
   "source": [
    "<ul><li>What are the 5 most common Departments in the data?</li>\n",
    "<ul><li><b>Extra task: </b>What are 3 Departments using most money in the data?</li></ul>\n",
    "</ul>"
   ]
  },
  {
   "cell_type": "code",
   "execution_count": 22,
   "metadata": {},
   "outputs": [
    {
     "data": {
      "text/plain": [
       "Corrections and Rehabilitation, Department of    10891\n",
       "Correctional Health Care Services                 6593\n",
       "Water Resources, Department of                    4582\n",
       "Forestry and Fire Protection, Department of       4526\n",
       "State Hospitals, Department of                    4281\n",
       "Name: Department_Name, dtype: int64"
      ]
     },
     "execution_count": 22,
     "metadata": {},
     "output_type": "execute_result"
    }
   ],
   "source": [
    "# produce the code that gtest the needed most common departments\n",
    "\n",
    "# value_counts() returns counts of unique values\n",
    "# nlargest(n) returns the first n rows ordered by columns in desc order\n",
    "df2['Department_Name'].value_counts().nlargest(5)\n"
   ]
  },
  {
   "cell_type": "code",
   "execution_count": 23,
   "metadata": {},
   "outputs": [
    {
     "data": {
      "text/plain": [
       "Department_Name\n",
       "Health Care Services, Department of    21866849702\n",
       "Public Health, Department of            2748240333\n",
       "Social Services, Department of          1291192293\n",
       "Name: Total_Price, dtype: int64"
      ]
     },
     "execution_count": 23,
     "metadata": {},
     "output_type": "execute_result"
    }
   ],
   "source": [
    "df2.groupby('Department_Name').sum('Total_Price').nlargest(3,'Total_Price')['Total_Price'].astype('int64')"
   ]
  },
  {
   "attachments": {},
   "cell_type": "markdown",
   "metadata": {},
   "source": [
    "<li>Sort the data by Department Name</li>"
   ]
  },
  {
   "cell_type": "code",
   "execution_count": 24,
   "metadata": {},
   "outputs": [
    {
     "data": {
      "text/html": [
       "<div>\n",
       "<style scoped>\n",
       "    .dataframe tbody tr th:only-of-type {\n",
       "        vertical-align: middle;\n",
       "    }\n",
       "\n",
       "    .dataframe tbody tr th {\n",
       "        vertical-align: top;\n",
       "    }\n",
       "\n",
       "    .dataframe thead th {\n",
       "        text-align: right;\n",
       "    }\n",
       "</style>\n",
       "<table border=\"1\" class=\"dataframe\">\n",
       "  <thead>\n",
       "    <tr style=\"text-align: right;\">\n",
       "      <th></th>\n",
       "      <th>Creation_Date</th>\n",
       "      <th>Purchase_Date</th>\n",
       "      <th>Fiscal_Year</th>\n",
       "      <th>LPA_Number</th>\n",
       "      <th>Purchase_Order_Number</th>\n",
       "      <th>Requisition_Number</th>\n",
       "      <th>Acquisition_Type</th>\n",
       "      <th>Acquisition_Method</th>\n",
       "      <th>Department_Name</th>\n",
       "      <th>Supplier_Code</th>\n",
       "      <th>...</th>\n",
       "      <th>Normalized_UNSPSC</th>\n",
       "      <th>Commodity_Title</th>\n",
       "      <th>Class</th>\n",
       "      <th>Class_Title</th>\n",
       "      <th>Family</th>\n",
       "      <th>Family_Title</th>\n",
       "      <th>Segment</th>\n",
       "      <th>Segment_Title</th>\n",
       "      <th>Location</th>\n",
       "      <th>Year</th>\n",
       "    </tr>\n",
       "  </thead>\n",
       "  <tbody>\n",
       "    <tr>\n",
       "      <th>6</th>\n",
       "      <td>11/30/2012</td>\n",
       "      <td>2012-06-15</td>\n",
       "      <td>2012-2013</td>\n",
       "      <td>NaN</td>\n",
       "      <td>11OAL07</td>\n",
       "      <td>NaN</td>\n",
       "      <td>NON-IT Goods</td>\n",
       "      <td>NCB</td>\n",
       "      <td>Administrative Law, Office of</td>\n",
       "      <td>1001493.0</td>\n",
       "      <td>...</td>\n",
       "      <td>55101524.0</td>\n",
       "      <td>Reference books</td>\n",
       "      <td>55101500.0</td>\n",
       "      <td>Printed publications</td>\n",
       "      <td>55100000.0</td>\n",
       "      <td>Printed media</td>\n",
       "      <td>55000000.0</td>\n",
       "      <td>Published Products</td>\n",
       "      <td>95833\\n(38.615723, -121.50562)</td>\n",
       "      <td>2012.0</td>\n",
       "    </tr>\n",
       "    <tr>\n",
       "      <th>519</th>\n",
       "      <td>11/30/2012</td>\n",
       "      <td>2012-06-15</td>\n",
       "      <td>2012-2013</td>\n",
       "      <td>NaN</td>\n",
       "      <td>11OAL09</td>\n",
       "      <td>NaN</td>\n",
       "      <td>NON-IT Goods</td>\n",
       "      <td>NCB</td>\n",
       "      <td>Administrative Law, Office of</td>\n",
       "      <td>1657720.0</td>\n",
       "      <td>...</td>\n",
       "      <td>55101524.0</td>\n",
       "      <td>Reference books</td>\n",
       "      <td>55101500.0</td>\n",
       "      <td>Printed publications</td>\n",
       "      <td>55100000.0</td>\n",
       "      <td>Printed media</td>\n",
       "      <td>55000000.0</td>\n",
       "      <td>Published Products</td>\n",
       "      <td>55123\\n(44.807169, -93.136157)</td>\n",
       "      <td>2012.0</td>\n",
       "    </tr>\n",
       "    <tr>\n",
       "      <th>20018</th>\n",
       "      <td>11/30/2012</td>\n",
       "      <td>2012-06-15</td>\n",
       "      <td>2012-2013</td>\n",
       "      <td>NaN</td>\n",
       "      <td>11OAL10</td>\n",
       "      <td>NaN</td>\n",
       "      <td>NON-IT Goods</td>\n",
       "      <td>NCB</td>\n",
       "      <td>Administrative Law, Office of</td>\n",
       "      <td>1657720.0</td>\n",
       "      <td>...</td>\n",
       "      <td>55101524.0</td>\n",
       "      <td>Reference books</td>\n",
       "      <td>55101500.0</td>\n",
       "      <td>Printed publications</td>\n",
       "      <td>55100000.0</td>\n",
       "      <td>Printed media</td>\n",
       "      <td>55000000.0</td>\n",
       "      <td>Published Products</td>\n",
       "      <td>55123\\n(44.807169, -93.136157)</td>\n",
       "      <td>2012.0</td>\n",
       "    </tr>\n",
       "    <tr>\n",
       "      <th>31381</th>\n",
       "      <td>02/21/2013</td>\n",
       "      <td>2013-03-20</td>\n",
       "      <td>2012-2013</td>\n",
       "      <td>NaN</td>\n",
       "      <td>11-12201</td>\n",
       "      <td>NaN</td>\n",
       "      <td>NON-IT Services</td>\n",
       "      <td>Informal Competitive</td>\n",
       "      <td>African American Museum, California</td>\n",
       "      <td>7341.0</td>\n",
       "      <td>...</td>\n",
       "      <td>82101801.0</td>\n",
       "      <td>Advertising campaign services</td>\n",
       "      <td>82101800.0</td>\n",
       "      <td>Advertising agency services</td>\n",
       "      <td>82100000.0</td>\n",
       "      <td>Advertising</td>\n",
       "      <td>82000000.0</td>\n",
       "      <td>Editorial and Design and Graphic and Fine Art ...</td>\n",
       "      <td>90017\\n(34.052895, -118.2642)</td>\n",
       "      <td>2013.0</td>\n",
       "    </tr>\n",
       "    <tr>\n",
       "      <th>27820</th>\n",
       "      <td>01/03/2013</td>\n",
       "      <td>2011-02-14</td>\n",
       "      <td>2012-2013</td>\n",
       "      <td>NaN</td>\n",
       "      <td>11-12175</td>\n",
       "      <td>NaN</td>\n",
       "      <td>NON-IT Services</td>\n",
       "      <td>Informal Competitive</td>\n",
       "      <td>African American Museum, California</td>\n",
       "      <td>1749414.0</td>\n",
       "      <td>...</td>\n",
       "      <td>78141501.0</td>\n",
       "      <td>Freight forwarders services</td>\n",
       "      <td>78141500.0</td>\n",
       "      <td>Transport arranging services</td>\n",
       "      <td>78140000.0</td>\n",
       "      <td>Transport services</td>\n",
       "      <td>78000000.0</td>\n",
       "      <td>Transportation and Storage and Mail Services</td>\n",
       "      <td>NaN</td>\n",
       "      <td>2011.0</td>\n",
       "    </tr>\n",
       "    <tr>\n",
       "      <th>...</th>\n",
       "      <td>...</td>\n",
       "      <td>...</td>\n",
       "      <td>...</td>\n",
       "      <td>...</td>\n",
       "      <td>...</td>\n",
       "      <td>...</td>\n",
       "      <td>...</td>\n",
       "      <td>...</td>\n",
       "      <td>...</td>\n",
       "      <td>...</td>\n",
       "      <td>...</td>\n",
       "      <td>...</td>\n",
       "      <td>...</td>\n",
       "      <td>...</td>\n",
       "      <td>...</td>\n",
       "      <td>...</td>\n",
       "      <td>...</td>\n",
       "      <td>...</td>\n",
       "      <td>...</td>\n",
       "      <td>...</td>\n",
       "      <td>...</td>\n",
       "    </tr>\n",
       "    <tr>\n",
       "      <th>24826</th>\n",
       "      <td>12/17/2012</td>\n",
       "      <td>2012-12-15</td>\n",
       "      <td>2012-2013</td>\n",
       "      <td>NaN</td>\n",
       "      <td>4500192615</td>\n",
       "      <td>NaN</td>\n",
       "      <td>NON-IT Goods</td>\n",
       "      <td>Formal Competitive</td>\n",
       "      <td>Water Resources, Department of</td>\n",
       "      <td>16299.0</td>\n",
       "      <td>...</td>\n",
       "      <td>27131603.0</td>\n",
       "      <td>Air regulators</td>\n",
       "      <td>27131600.0</td>\n",
       "      <td>Air fittings and connectors</td>\n",
       "      <td>27130000.0</td>\n",
       "      <td>Pneumatic machinery and equipment</td>\n",
       "      <td>27000000.0</td>\n",
       "      <td>Tools and General Machinery</td>\n",
       "      <td>93390\\n(35.373405, -119.018911)</td>\n",
       "      <td>2012.0</td>\n",
       "    </tr>\n",
       "    <tr>\n",
       "      <th>49068</th>\n",
       "      <td>06/13/2013</td>\n",
       "      <td>2013-06-12</td>\n",
       "      <td>2012-2013</td>\n",
       "      <td>NaN</td>\n",
       "      <td>4500199013</td>\n",
       "      <td>NaN</td>\n",
       "      <td>IT Goods</td>\n",
       "      <td>Informal Competitive</td>\n",
       "      <td>Water Resources, Department of</td>\n",
       "      <td>1016373.0</td>\n",
       "      <td>...</td>\n",
       "      <td>43232605.0</td>\n",
       "      <td>Analytical or scientific software</td>\n",
       "      <td>43232600.0</td>\n",
       "      <td>Industry specific software</td>\n",
       "      <td>43230000.0</td>\n",
       "      <td>Software</td>\n",
       "      <td>43000000.0</td>\n",
       "      <td>Information Technology Broadcasting and Teleco...</td>\n",
       "      <td>1760\\n</td>\n",
       "      <td>2013.0</td>\n",
       "    </tr>\n",
       "    <tr>\n",
       "      <th>49069</th>\n",
       "      <td>03/26/2014</td>\n",
       "      <td>2014-03-25</td>\n",
       "      <td>2013-2014</td>\n",
       "      <td>NaN</td>\n",
       "      <td>4500208992</td>\n",
       "      <td>NaN</td>\n",
       "      <td>NON-IT Goods</td>\n",
       "      <td>State Programs</td>\n",
       "      <td>Water Resources, Department of</td>\n",
       "      <td>1743406.0</td>\n",
       "      <td>...</td>\n",
       "      <td>15101506.0</td>\n",
       "      <td>Gasoline or Petrol</td>\n",
       "      <td>15101500.0</td>\n",
       "      <td>Petroleum and distillates</td>\n",
       "      <td>15100000.0</td>\n",
       "      <td>Fuels</td>\n",
       "      <td>15000000.0</td>\n",
       "      <td>Fuels and Fuel Additives and Lubricants and An...</td>\n",
       "      <td>NaN</td>\n",
       "      <td>2014.0</td>\n",
       "    </tr>\n",
       "    <tr>\n",
       "      <th>49057</th>\n",
       "      <td>06/13/2013</td>\n",
       "      <td>2013-06-12</td>\n",
       "      <td>2012-2013</td>\n",
       "      <td>NaN</td>\n",
       "      <td>4500199013</td>\n",
       "      <td>NaN</td>\n",
       "      <td>IT Goods</td>\n",
       "      <td>Informal Competitive</td>\n",
       "      <td>Water Resources, Department of</td>\n",
       "      <td>1016373.0</td>\n",
       "      <td>...</td>\n",
       "      <td>81112217.0</td>\n",
       "      <td>Industry specific software maintenance</td>\n",
       "      <td>81112200.0</td>\n",
       "      <td>Software maintenance and support</td>\n",
       "      <td>81110000.0</td>\n",
       "      <td>Computer services</td>\n",
       "      <td>81000000.0</td>\n",
       "      <td>Engineering and Research and Technology Based ...</td>\n",
       "      <td>1760\\n</td>\n",
       "      <td>2013.0</td>\n",
       "    </tr>\n",
       "    <tr>\n",
       "      <th>44469</th>\n",
       "      <td>05/07/2013</td>\n",
       "      <td>2013-05-01</td>\n",
       "      <td>2012-2013</td>\n",
       "      <td>NaN</td>\n",
       "      <td>4500197248</td>\n",
       "      <td>NaN</td>\n",
       "      <td>NON-IT Goods</td>\n",
       "      <td>State Programs</td>\n",
       "      <td>Water Resources, Department of</td>\n",
       "      <td>1743406.0</td>\n",
       "      <td>...</td>\n",
       "      <td>78180301.0</td>\n",
       "      <td>Fuelling of vehicles</td>\n",
       "      <td>78180300.0</td>\n",
       "      <td>Transport fuelling and vehicle storage and sup...</td>\n",
       "      <td>78180000.0</td>\n",
       "      <td>Transportation repair or maintenance services</td>\n",
       "      <td>78000000.0</td>\n",
       "      <td>Transportation and Storage and Mail Services</td>\n",
       "      <td>NaN</td>\n",
       "      <td>2013.0</td>\n",
       "    </tr>\n",
       "  </tbody>\n",
       "</table>\n",
       "<p>62657 rows × 30 columns</p>\n",
       "</div>"
      ],
      "text/plain": [
       "      Creation_Date Purchase_Date Fiscal_Year LPA_Number  \\\n",
       "6        11/30/2012    2012-06-15   2012-2013        NaN   \n",
       "519      11/30/2012    2012-06-15   2012-2013        NaN   \n",
       "20018    11/30/2012    2012-06-15   2012-2013        NaN   \n",
       "31381    02/21/2013    2013-03-20   2012-2013        NaN   \n",
       "27820    01/03/2013    2011-02-14   2012-2013        NaN   \n",
       "...             ...           ...         ...        ...   \n",
       "24826    12/17/2012    2012-12-15   2012-2013        NaN   \n",
       "49068    06/13/2013    2013-06-12   2012-2013        NaN   \n",
       "49069    03/26/2014    2014-03-25   2013-2014        NaN   \n",
       "49057    06/13/2013    2013-06-12   2012-2013        NaN   \n",
       "44469    05/07/2013    2013-05-01   2012-2013        NaN   \n",
       "\n",
       "      Purchase_Order_Number  Requisition_Number Acquisition_Type  \\\n",
       "6                   11OAL07                 NaN     NON-IT Goods   \n",
       "519                 11OAL09                 NaN     NON-IT Goods   \n",
       "20018               11OAL10                 NaN     NON-IT Goods   \n",
       "31381              11-12201                 NaN  NON-IT Services   \n",
       "27820              11-12175                 NaN  NON-IT Services   \n",
       "...                     ...                 ...              ...   \n",
       "24826            4500192615                 NaN     NON-IT Goods   \n",
       "49068            4500199013                 NaN         IT Goods   \n",
       "49069            4500208992                 NaN     NON-IT Goods   \n",
       "49057            4500199013                 NaN         IT Goods   \n",
       "44469            4500197248                 NaN     NON-IT Goods   \n",
       "\n",
       "         Acquisition_Method                      Department_Name  \\\n",
       "6                       NCB        Administrative Law, Office of   \n",
       "519                     NCB        Administrative Law, Office of   \n",
       "20018                   NCB        Administrative Law, Office of   \n",
       "31381  Informal Competitive  African American Museum, California   \n",
       "27820  Informal Competitive  African American Museum, California   \n",
       "...                     ...                                  ...   \n",
       "24826    Formal Competitive       Water Resources, Department of   \n",
       "49068  Informal Competitive       Water Resources, Department of   \n",
       "49069        State Programs       Water Resources, Department of   \n",
       "49057  Informal Competitive       Water Resources, Department of   \n",
       "44469        State Programs       Water Resources, Department of   \n",
       "\n",
       "       Supplier_Code  ... Normalized_UNSPSC  \\\n",
       "6          1001493.0  ...        55101524.0   \n",
       "519        1657720.0  ...        55101524.0   \n",
       "20018      1657720.0  ...        55101524.0   \n",
       "31381         7341.0  ...        82101801.0   \n",
       "27820      1749414.0  ...        78141501.0   \n",
       "...              ...  ...               ...   \n",
       "24826        16299.0  ...        27131603.0   \n",
       "49068      1016373.0  ...        43232605.0   \n",
       "49069      1743406.0  ...        15101506.0   \n",
       "49057      1016373.0  ...        81112217.0   \n",
       "44469      1743406.0  ...        78180301.0   \n",
       "\n",
       "                              Commodity_Title       Class  \\\n",
       "6                             Reference books  55101500.0   \n",
       "519                           Reference books  55101500.0   \n",
       "20018                         Reference books  55101500.0   \n",
       "31381           Advertising campaign services  82101800.0   \n",
       "27820             Freight forwarders services  78141500.0   \n",
       "...                                       ...         ...   \n",
       "24826                          Air regulators  27131600.0   \n",
       "49068       Analytical or scientific software  43232600.0   \n",
       "49069                      Gasoline or Petrol  15101500.0   \n",
       "49057  Industry specific software maintenance  81112200.0   \n",
       "44469                    Fuelling of vehicles  78180300.0   \n",
       "\n",
       "                                             Class_Title      Family  \\\n",
       "6                                   Printed publications  55100000.0   \n",
       "519                                 Printed publications  55100000.0   \n",
       "20018                               Printed publications  55100000.0   \n",
       "31381                        Advertising agency services  82100000.0   \n",
       "27820                       Transport arranging services  78140000.0   \n",
       "...                                                  ...         ...   \n",
       "24826                        Air fittings and connectors  27130000.0   \n",
       "49068                         Industry specific software  43230000.0   \n",
       "49069                          Petroleum and distillates  15100000.0   \n",
       "49057                   Software maintenance and support  81110000.0   \n",
       "44469  Transport fuelling and vehicle storage and sup...  78180000.0   \n",
       "\n",
       "                                        Family_Title     Segment  \\\n",
       "6                                      Printed media  55000000.0   \n",
       "519                                    Printed media  55000000.0   \n",
       "20018                                  Printed media  55000000.0   \n",
       "31381                                    Advertising  82000000.0   \n",
       "27820                             Transport services  78000000.0   \n",
       "...                                              ...         ...   \n",
       "24826              Pneumatic machinery and equipment  27000000.0   \n",
       "49068                                       Software  43000000.0   \n",
       "49069                                          Fuels  15000000.0   \n",
       "49057                              Computer services  81000000.0   \n",
       "44469  Transportation repair or maintenance services  78000000.0   \n",
       "\n",
       "                                           Segment_Title  \\\n",
       "6                                     Published Products   \n",
       "519                                   Published Products   \n",
       "20018                                 Published Products   \n",
       "31381  Editorial and Design and Graphic and Fine Art ...   \n",
       "27820       Transportation and Storage and Mail Services   \n",
       "...                                                  ...   \n",
       "24826                        Tools and General Machinery   \n",
       "49068  Information Technology Broadcasting and Teleco...   \n",
       "49069  Fuels and Fuel Additives and Lubricants and An...   \n",
       "49057  Engineering and Research and Technology Based ...   \n",
       "44469       Transportation and Storage and Mail Services   \n",
       "\n",
       "                              Location    Year  \n",
       "6       95833\\n(38.615723, -121.50562)  2012.0  \n",
       "519     55123\\n(44.807169, -93.136157)  2012.0  \n",
       "20018   55123\\n(44.807169, -93.136157)  2012.0  \n",
       "31381    90017\\n(34.052895, -118.2642)  2013.0  \n",
       "27820                              NaN  2011.0  \n",
       "...                                ...     ...  \n",
       "24826  93390\\n(35.373405, -119.018911)  2012.0  \n",
       "49068                           1760\\n  2013.0  \n",
       "49069                              NaN  2014.0  \n",
       "49057                           1760\\n  2013.0  \n",
       "44469                              NaN  2013.0  \n",
       "\n",
       "[62657 rows x 30 columns]"
      ]
     },
     "execution_count": 24,
     "metadata": {},
     "output_type": "execute_result"
    }
   ],
   "source": [
    "# sort the data by department name\n",
    "df2.sort_values('Department_Name')"
   ]
  },
  {
   "attachments": {},
   "cell_type": "markdown",
   "metadata": {},
   "source": [
    "<ul>\n",
    "<li><b>Small extra tasks for extra points</b></li>\n",
    "<ul>\n",
    "<li>How many purchases in the data were IT Goods and had the total price more than 50000 dollars?</li>\n",
    "<li>How many of the purchases have anything to do with IT? (IT Goods, IT Services, IT Telecommunications)</li>\n",
    "\n",
    "</ul>\n",
    "</ul>"
   ]
  },
  {
   "cell_type": "code",
   "execution_count": 25,
   "metadata": {},
   "outputs": [
    {
     "name": "stdout",
     "output_type": "stream",
     "text": [
      "IT Goods with more then 50000 dollars price: 698\n",
      "Totally purchases that have anything to do with IT: 9558\n"
     ]
    }
   ],
   "source": [
    "# produce the code for the extra tasks if you wish complete them\n",
    "it_goods = len(df2[(df2['Total_Price'] > 50000) & (df2['Acquisition_Type'] == 'IT Goods')])\n",
    "it_total = len(df2[(df2['Acquisition_Type'] == 'IT Goods') | (df2['Acquisition_Type'] == 'IT Services') | (df2['Acquisition_Type'] == 'IT Telecommunications')])\n",
    "print(f\"IT Goods with more then 50000 dollars price: {it_goods}\")\n",
    "print(f\"Totally purchases that have anything to do with IT: {it_total}\")"
   ]
  },
  {
   "attachments": {},
   "cell_type": "markdown",
   "metadata": {},
   "source": [
    "<img src=\"http://srv.plab.fi/~tuomasv/data_analytics_2023_images/exercise_set_2/es2_2.png\" />"
   ]
  },
  {
   "attachments": {},
   "cell_type": "markdown",
   "metadata": {},
   "source": [
    "<h4><b>3. Download the data_salaries_india.csv from Moodle, and consider the following questions of the data. Use any means in pandas (or even NumPy) you wish to explain your answers.</b></h4>\n"
   ]
  },
  {
   "attachments": {},
   "cell_type": "markdown",
   "metadata": {},
   "source": [
    "<ul>\n",
    "<li>Before we can do anything with the salaries, we have to convert them into something more usable</li>\n",
    "<ul>\n",
    "<li>Note: the salaries can be yearly, monthly or hourly salaries</li>\n",
    "<ul>\n",
    "<li>We don't also need the Indian rupee –sign (₹)</li>\n",
    "</ul>\n",
    "<li>You can use the template in Moodle to help you out with this (Salary filtering, pandas exercise 3)</li>\n",
    "</ul>\n",
    "</ul>"
   ]
  },
  {
   "cell_type": "code",
   "execution_count": 41,
   "metadata": {},
   "outputs": [],
   "source": [
    "\n",
    "# helper function for pandas to convert all salaries\n",
    "# into yearly integer salaries\n",
    "def yearly_wage(row):\n",
    "    # the last two characters determine if it's yearly, monthly, hourly\n",
    "    period = row['Salary'][-2:]\n",
    "    \n",
    "    # remove all commas and combine all numbers\n",
    "    number = int(''.join(filter(str.isdigit, row['Salary'])))\n",
    "    \n",
    "    # if it's hourly, the average work hours per year in India is\n",
    "    # approximately 2117.01 (might change in future)\n",
    "    if period == \"hr\":\n",
    "        number = int(number * 2117.01)\n",
    "    elif period == \"mo\":\n",
    "        # months to year\n",
    "        number = int(number * 12)\n",
    "    \n",
    "    # return the yearly salary in integer format\n",
    "    return number\n",
    "\n",
    "\n",
    "# Loading data set\n",
    "df3 = pd.read_csv('data_salaries_india.csv')\n",
    "# Removing white spaces from column names\n",
    "df3.columns = df3.columns.str.replace(\" \", \"_\")\n",
    "# Converting salary data to yearly wage format\n",
    "df3['Yearly_Salary'] = df3.apply(yearly_wage, axis=1)\n"
   ]
  },
  {
   "attachments": {},
   "cell_type": "markdown",
   "metadata": {},
   "source": [
    "<ul>\n",
    "<li>What are the most common values in different fields (Job Titles, Companies, Location)? <b>Based on the distribution, is the data balanced or not?</b></li>\n",
    "<ul>\n",
    "<li><b>Extra task:</b> there seem to be some Job Titles that are almost the same, like \"Machine Learning Data Associate\" and \"Machine Learning Associate\", combine these into something common</li>\n",
    "</ul>\n",
    "</ul>"
   ]
  },
  {
   "cell_type": "code",
   "execution_count": 130,
   "metadata": {},
   "outputs": [],
   "source": [
    "# produce the code that shows the most common values in different fields\n",
    "# and answer the question about the distribution\n",
    "# Let's combine common jobs together:\n",
    "# 1. Obviously same titles with differences in names\n",
    "df3['Job_Title'].replace('Data Science','Data Scientist', inplace=True)\n",
    "df3['Job_Title'].replace('Data Science Lead','Lead Data Scientist', inplace=True)\n",
    "df3['Job_Title'].replace('Data Science Manager','Data Scientist', inplace=True)\n",
    "df3['Job_Title'].replace('Machine Learning Software Engineer','Machine Learning Engineer', inplace=True)\n",
    "df3['Job_Title'].replace('Software Engineer - Machine Learning','Machine Learning Engineer', inplace=True)\n",
    "df3['Job_Title'].replace('Machine Learning Data Analyst','Data Analyst', inplace=True)\n"
   ]
  },
  {
   "cell_type": "code",
   "execution_count": 85,
   "metadata": {},
   "outputs": [
    {
     "name": "stdout",
     "output_type": "stream",
     "text": [
      "Compared with engineers:          self    other\n",
      "count        2      687\n",
      "mean   1575781  1050164\n",
      "std    1270248  1193970\n",
      "min     677580    21628\n",
      "25%    1126680   362352\n",
      "50%    1575781   709492\n",
      "75%    2024882  1243222\n",
      "max    2473983  9297256\n",
      " Compared with scientist          self     other\n",
      "count        2      2219\n",
      "mean   1575781   1476875\n",
      "std    1270248   1739760\n",
      "min     677580     50613\n",
      "25%    1126680    600000\n",
      "50%    1575781   1023226\n",
      "75%    2024882   1687111\n",
      "max    2473983  19234356\n"
     ]
    }
   ],
   "source": [
    "# 2. There is role called Machine Learning Engineer/Data Scientist. Let's find out is it closer to engineer or to data scientist\n",
    "both = df3[df3['Job_Title'] == 'Machine Learning Engineer/Data Scientist']['Yearly_Salary'].describe().astype('int64')\n",
    "engineer = df3[df3['Job_Title'] == 'Machine Learning Engineer']['Yearly_Salary'].describe().astype('int64')\n",
    "scientist = df3[df3['Job_Title'] == 'Data Scientist']['Yearly_Salary'].describe().astype('int64')\n",
    "print(f\"Compared with engineers:{both.compare(engineer)}\\n Compared with scientist{both.compare(scientist)}\")\n",
    "# Seems like these guys would better fit into Data Scientist role, since their means are pretty close to each other\n",
    "\n",
    "# Actually afterwards I realized that there are only 2 of them, so it doesn't realy matter. But anyways\n",
    "df3['Job_Title'].replace('Machine Learning Engineer/Data Scientist','Data Analyst', inplace=True)"
   ]
  },
  {
   "cell_type": "code",
   "execution_count": 94,
   "metadata": {},
   "outputs": [],
   "source": [
    "# 3. Let's take a look onto ML developers\n",
    "df3[df3['Job_Title'] == 'Machine Learning Developer']['Yearly_Salary'].describe().astype('int64')\n",
    "# Generally speaking software engineers and software developers are close to each other but still have some differences.\n",
    "# In this case there are only 2 developers, and they fit into 50% segment of engineers quite smoothly, so let's join them as well.\n",
    "df3['Job_Title'].replace('Machine Learning Developer','Machine Learning Engineer', inplace=True)"
   ]
  },
  {
   "cell_type": "code",
   "execution_count": 128,
   "metadata": {},
   "outputs": [],
   "source": [
    "# 4. Let's also join all ML Associates into one category, since there are only few people in each category and their wage difference is not so big\n",
    "df3['Job_Title'].replace({\"Machine Learning Data Associate II\": \"Machine Learning Associate\",\n",
    "                          \"Machine Learning Data Associate\": \"Machine Learning Associate\",\n",
    "                          \"Machine Learning Data Associate I\": \"Machine Learning Associate\",\n",
    "                          \"Associate Machine Learning Engineer\": \"Machine Learning Associate\"}, inplace=True)"
   ]
  },
  {
   "cell_type": "code",
   "execution_count": 131,
   "metadata": {},
   "outputs": [
    {
     "data": {
      "text/html": [
       "<div>\n",
       "<style scoped>\n",
       "    .dataframe tbody tr th:only-of-type {\n",
       "        vertical-align: middle;\n",
       "    }\n",
       "\n",
       "    .dataframe tbody tr th {\n",
       "        vertical-align: top;\n",
       "    }\n",
       "\n",
       "    .dataframe thead th {\n",
       "        text-align: right;\n",
       "    }\n",
       "</style>\n",
       "<table border=\"1\" class=\"dataframe\">\n",
       "  <thead>\n",
       "    <tr style=\"text-align: right;\">\n",
       "      <th></th>\n",
       "      <th>Company_Name</th>\n",
       "      <th>Role</th>\n",
       "      <th>Salaries_Reported</th>\n",
       "      <th>Location</th>\n",
       "      <th>Salary</th>\n",
       "      <th>Yearly_Salary</th>\n",
       "    </tr>\n",
       "    <tr>\n",
       "      <th>Job_Title</th>\n",
       "      <th></th>\n",
       "      <th></th>\n",
       "      <th></th>\n",
       "      <th></th>\n",
       "      <th></th>\n",
       "      <th></th>\n",
       "    </tr>\n",
       "  </thead>\n",
       "  <tbody>\n",
       "    <tr>\n",
       "      <th>CEO</th>\n",
       "      <td>1</td>\n",
       "      <td>1</td>\n",
       "      <td>1</td>\n",
       "      <td>1</td>\n",
       "      <td>1</td>\n",
       "      <td>1</td>\n",
       "    </tr>\n",
       "    <tr>\n",
       "      <th>Data Analyst</th>\n",
       "      <td>1167</td>\n",
       "      <td>1170</td>\n",
       "      <td>1170</td>\n",
       "      <td>1170</td>\n",
       "      <td>1170</td>\n",
       "      <td>1170</td>\n",
       "    </tr>\n",
       "    <tr>\n",
       "      <th>Data Engineer</th>\n",
       "      <td>947</td>\n",
       "      <td>948</td>\n",
       "      <td>948</td>\n",
       "      <td>948</td>\n",
       "      <td>948</td>\n",
       "      <td>948</td>\n",
       "    </tr>\n",
       "    <tr>\n",
       "      <th>Data Science Associate</th>\n",
       "      <td>1</td>\n",
       "      <td>1</td>\n",
       "      <td>1</td>\n",
       "      <td>1</td>\n",
       "      <td>1</td>\n",
       "      <td>1</td>\n",
       "    </tr>\n",
       "    <tr>\n",
       "      <th>Data Scientist</th>\n",
       "      <td>2221</td>\n",
       "      <td>2221</td>\n",
       "      <td>2221</td>\n",
       "      <td>2221</td>\n",
       "      <td>2221</td>\n",
       "      <td>2221</td>\n",
       "    </tr>\n",
       "    <tr>\n",
       "      <th>Data Scientist - Trainee</th>\n",
       "      <td>2</td>\n",
       "      <td>2</td>\n",
       "      <td>2</td>\n",
       "      <td>2</td>\n",
       "      <td>2</td>\n",
       "      <td>2</td>\n",
       "    </tr>\n",
       "    <tr>\n",
       "      <th>Junior Data Scientist</th>\n",
       "      <td>22</td>\n",
       "      <td>22</td>\n",
       "      <td>22</td>\n",
       "      <td>22</td>\n",
       "      <td>22</td>\n",
       "      <td>22</td>\n",
       "    </tr>\n",
       "    <tr>\n",
       "      <th>Lead Data Scientist</th>\n",
       "      <td>7</td>\n",
       "      <td>7</td>\n",
       "      <td>7</td>\n",
       "      <td>7</td>\n",
       "      <td>7</td>\n",
       "      <td>7</td>\n",
       "    </tr>\n",
       "    <tr>\n",
       "      <th>Machine Learning Associate</th>\n",
       "      <td>6</td>\n",
       "      <td>6</td>\n",
       "      <td>6</td>\n",
       "      <td>6</td>\n",
       "      <td>6</td>\n",
       "      <td>6</td>\n",
       "    </tr>\n",
       "    <tr>\n",
       "      <th>Machine Learning Consultant</th>\n",
       "      <td>2</td>\n",
       "      <td>2</td>\n",
       "      <td>2</td>\n",
       "      <td>2</td>\n",
       "      <td>2</td>\n",
       "      <td>2</td>\n",
       "    </tr>\n",
       "    <tr>\n",
       "      <th>Machine Learning Engineer</th>\n",
       "      <td>689</td>\n",
       "      <td>689</td>\n",
       "      <td>689</td>\n",
       "      <td>689</td>\n",
       "      <td>689</td>\n",
       "      <td>689</td>\n",
       "    </tr>\n",
       "    <tr>\n",
       "      <th>Machine Learning Scientist</th>\n",
       "      <td>2</td>\n",
       "      <td>2</td>\n",
       "      <td>2</td>\n",
       "      <td>2</td>\n",
       "      <td>2</td>\n",
       "      <td>2</td>\n",
       "    </tr>\n",
       "    <tr>\n",
       "      <th>National Director</th>\n",
       "      <td>1</td>\n",
       "      <td>1</td>\n",
       "      <td>1</td>\n",
       "      <td>1</td>\n",
       "      <td>1</td>\n",
       "      <td>1</td>\n",
       "    </tr>\n",
       "    <tr>\n",
       "      <th>Senior Data Scientist</th>\n",
       "      <td>45</td>\n",
       "      <td>45</td>\n",
       "      <td>45</td>\n",
       "      <td>45</td>\n",
       "      <td>45</td>\n",
       "      <td>45</td>\n",
       "    </tr>\n",
       "    <tr>\n",
       "      <th>Senior Machine Learning Engineer</th>\n",
       "      <td>10</td>\n",
       "      <td>10</td>\n",
       "      <td>10</td>\n",
       "      <td>10</td>\n",
       "      <td>10</td>\n",
       "      <td>10</td>\n",
       "    </tr>\n",
       "  </tbody>\n",
       "</table>\n",
       "</div>"
      ],
      "text/plain": [
       "                                  Company_Name  Role  Salaries_Reported  \\\n",
       "Job_Title                                                                 \n",
       "CEO                                          1     1                  1   \n",
       "Data Analyst                              1167  1170               1170   \n",
       "Data Engineer                              947   948                948   \n",
       "Data Science Associate                       1     1                  1   \n",
       "Data Scientist                            2221  2221               2221   \n",
       "Data Scientist - Trainee                     2     2                  2   \n",
       "Junior Data Scientist                       22    22                 22   \n",
       "Lead Data Scientist                          7     7                  7   \n",
       "Machine Learning Associate                   6     6                  6   \n",
       "Machine Learning Consultant                  2     2                  2   \n",
       "Machine Learning Engineer                  689   689                689   \n",
       "Machine Learning Scientist                   2     2                  2   \n",
       "National Director                            1     1                  1   \n",
       "Senior Data Scientist                       45    45                 45   \n",
       "Senior Machine Learning Engineer            10    10                 10   \n",
       "\n",
       "                                  Location  Salary  Yearly_Salary  \n",
       "Job_Title                                                          \n",
       "CEO                                      1       1              1  \n",
       "Data Analyst                          1170    1170           1170  \n",
       "Data Engineer                          948     948            948  \n",
       "Data Science Associate                   1       1              1  \n",
       "Data Scientist                        2221    2221           2221  \n",
       "Data Scientist - Trainee                 2       2              2  \n",
       "Junior Data Scientist                   22      22             22  \n",
       "Lead Data Scientist                      7       7              7  \n",
       "Machine Learning Associate               6       6              6  \n",
       "Machine Learning Consultant              2       2              2  \n",
       "Machine Learning Engineer              689     689            689  \n",
       "Machine Learning Scientist               2       2              2  \n",
       "National Director                        1       1              1  \n",
       "Senior Data Scientist                   45      45             45  \n",
       "Senior Machine Learning Engineer        10      10             10  "
      ]
     },
     "execution_count": 131,
     "metadata": {},
     "output_type": "execute_result"
    }
   ],
   "source": [
    "# Our final list of titles.\n",
    "# In my opinion in that paticular case we could also join trainees, juniors and associates to the same category(ies), since there are only few of them.\n",
    "# But I've decided to keep them in case if this dataset keeps growing and we could possibly get more data about those titles,\n",
    "# which could be usefull in the future\n",
    "df3.groupby(['Job_Title']).count()"
   ]
  },
  {
   "attachments": {},
   "cell_type": "markdown",
   "metadata": {},
   "source": [
    "<li>Are there any outliers in the data that might affect the averages negatively (certain salaries)? Manage the outliers as you best see fit (either remove them or leave them, based on your analysis) </li>"
   ]
  },
  {
   "cell_type": "code",
   "execution_count": 28,
   "metadata": {},
   "outputs": [],
   "source": [
    "# produce the code that shows the potential outliers and take care of them as you see fit"
   ]
  },
  {
   "attachments": {},
   "cell_type": "markdown",
   "metadata": {},
   "source": [
    "<ul>\n",
    "<li>If we want to correlate upon categories (ordinal or binary), we need to use factorize(). <b>Factorize the Role-column, and add the new column to the DataFrame.</b></li>\n",
    "<ul>\n",
    "<li><b>Note:</b> using <b>factorize()</b> for nominal categories (Job Title, Location, Company Name) doesn't work well, because the numbers do not have any numeric magnitude. In other words, these categories don't measure anything, they just group data, so numerical comparison / correlation doesn't mean anything statistically.</li>\n",
    "</ul>\n",
    "</ul>"
   ]
  },
  {
   "cell_type": "code",
   "execution_count": 29,
   "metadata": {},
   "outputs": [],
   "source": [
    "# example:\n",
    "# factorize Role level into numbers\n",
    "# label1, unique1 = pd.factorize(df['Role'], sort=False)\n",
    "# df['ManagerRole'] = label1\n",
    "\n",
    "# produce the needed factorization for Role-column"
   ]
  },
  {
   "attachments": {},
   "cell_type": "markdown",
   "metadata": {},
   "source": [
    "<ul>\n",
    "<li><b>Finally, check out the correlations. Does anything correlate with anything? Can we make any assumptions?</b></li>\n",
    "<ul>\n",
    "<li>Tip: When correlating against binary variables, sometimes the Spearman correlation might be more sensitive, in pandas:</li>\n",
    "</ul>\n",
    "</ul>"
   ]
  },
  {
   "cell_type": "code",
   "execution_count": 30,
   "metadata": {},
   "outputs": [],
   "source": [
    "# Remember: df.corr(method=\"spearman\")"
   ]
  },
  {
   "attachments": {},
   "cell_type": "markdown",
   "metadata": {},
   "source": [
    "<b>Smaller extra tasks</b><br><br>\n",
    "<ul>\n",
    "<li>Did you get any ideas how this data could be improved? Do we need some particular new data or some other operations on the data? Should we filter something out based on some other column?<br><br><b>Provide arguments for your answers in code comments.</b><br><br> </li>\n",
    "<ul>\n",
    "<li>Note: There are many good possible answers here!</li>\n",
    "<li>Tip: How about replacing the \"Salaries Reported\" column with actual rows based on that number? Try doing this with the data!</li>\n",
    "<li>Remember: This data only represents data engineering salaries based on selected Indian cities.\n",
    "The world is a vast place :)\n",
    "</li>\n",
    "</ul>\n",
    "</ul>"
   ]
  },
  {
   "cell_type": "code",
   "execution_count": 31,
   "metadata": {},
   "outputs": [],
   "source": [
    "# code for the smaller extra tasks"
   ]
  },
  {
   "attachments": {},
   "cell_type": "markdown",
   "metadata": {},
   "source": [
    "\n",
    "<h2><b>Advanced extra tasks for extra points (varying challenges, some require Googling):</b></h2>"
   ]
  },
  {
   "attachments": {},
   "cell_type": "markdown",
   "metadata": {},
   "source": [
    "<ul>\n",
    "<li><b>1. Data merge is a useful tool when you have multiple files of data that have the exact same structure.</b><br><br>Download the two csv-files from Moodle (videogames1.csv, videogames2.csv), and combine them into one Data Frame. Lastly, save the Data Frame into a new csv-file => combined.csv.</li>\n",
    "</ul>"
   ]
  },
  {
   "cell_type": "code",
   "execution_count": 32,
   "metadata": {},
   "outputs": [],
   "source": [
    "# code for the advanced extra task"
   ]
  },
  {
   "attachments": {},
   "cell_type": "markdown",
   "metadata": {},
   "source": [
    "<ul>\n",
    "<li><b>2. Functions and lambdas allow us to extend the operations we wish to do to columns and rows in pandas. </b><br><br>For example, the built-in functions may not be enough in all cases. Use the data of exercise 1 (loans.csv), and create a new column called \"Income Group\" that holds a text value. <br><br>Create either a function or a lambda, that determines the True or False –value based on the Annual Income –column. Use the following table to create the values:</li>\n",
    "</ul>\n",
    "\n",
    "<img src=\"http://srv.plab.fi/~tuomasv/data_analytics_2023_images/exercise_set_2/es2_3.png\"/>"
   ]
  },
  {
   "attachments": {},
   "cell_type": "markdown",
   "metadata": {},
   "source": [
    "<li>After creating the function/lambda, you can use it by using pandas' .apply() –function.<br><br></li>\n",
    "\n",
    "<li>Finally, get the amount of rows grouped by each of the new Income Group –field values and print them out.</li> \n"
   ]
  },
  {
   "cell_type": "code",
   "execution_count": 33,
   "metadata": {},
   "outputs": [],
   "source": [
    "# code for the advanced extra task"
   ]
  },
  {
   "attachments": {},
   "cell_type": "markdown",
   "metadata": {},
   "source": [
    "<ul>\n",
    "<li><b>3.\tNormalization allows us to convert the values of numeric columns to be between 0 and 1.</b> This is helpful when two different numbers seem to follow the same trend, but have completely different value ranges. For example, gold and silver prices tend to follow similar patterns, but their market worth is quite different. By using normalization, we can compare these trends more easily. <br>\n",
    "\n",
    "Get historical prices of both gold and silver, and compare them without and with normalization. You can plot the prices by using df.plot() –function. Check the dataset in list in Moodle for some alternatives for gold and silver prices.\n",
    "</li>\n",
    "</ul>\n",
    "<img src=\"http://srv.plab.fi/~tuomasv/data_analytics_2023_images/exercise_set_2/es2_4.png\" />"
   ]
  },
  {
   "attachments": {},
   "cell_type": "markdown",
   "metadata": {},
   "source": [
    "<ul>\n",
    "<li><b>4.\tCreate an account to kaggle.com, and find any dataset that interests you. </b><br>\n",
    "\n",
    "There's a list of possibly interesting datasets listed in Moodle as well.\n",
    "<br><br>\n",
    "<b>Try to find interesting features in data, in particular:</b>\n",
    "</li>\n",
    "<ul>\n",
    "<li>Clean up data first (rows with too many NaN –values), values that are way too big or small, insignificant columns etc.)</li>\n",
    "<li>You can create new columns as well if it seems suitable! (either by using functions or other means)</li>\n",
    "<li>Interesting correlations (.corr() –function) and other interesting features in the data. Is something surprising in the data?</li>\n",
    "<li><b>Note: </b>There are many ways on how to approach this exercise.</li>\n",
    "</ul>\n",
    "</ul>\n",
    "\n",
    "<img src=\"http://srv.plab.fi/~tuomasv/data_analytics_2023_images/exercise_set_2/es2_5.png\" />"
   ]
  },
  {
   "cell_type": "code",
   "execution_count": 34,
   "metadata": {},
   "outputs": [],
   "source": [
    "# do any Kaggle.com -related extra tasks in their own Jupyter notebooks for easier coding"
   ]
  },
  {
   "cell_type": "markdown",
   "metadata": {},
   "source": []
  }
 ],
 "metadata": {
  "kernelspec": {
   "display_name": "base",
   "language": "python",
   "name": "python3"
  },
  "language_info": {
   "codemirror_mode": {
    "name": "ipython",
    "version": 3
   },
   "file_extension": ".py",
   "mimetype": "text/x-python",
   "name": "python",
   "nbconvert_exporter": "python",
   "pygments_lexer": "ipython3",
   "version": "3.8.8"
  },
  "orig_nbformat": 4,
  "vscode": {
   "interpreter": {
    "hash": "cf558422ff312798717b064ce36aee692938c997b84de751bf519cfcc4fcb9aa"
   }
  }
 },
 "nbformat": 4,
 "nbformat_minor": 2
}
