{
  "cells": [
    {
      "cell_type": "markdown",
      "metadata": {
        "id": "dz9GzVzKTuAU"
      },
      "source": [
        "<h3><b>Introduction to Data Analytics - Exercise set 1 - Python and NumPy Basics</b></h3>"
      ]
    },
    {
      "cell_type": "code",
      "execution_count": 53,
      "metadata": {
        "id": "rlm_6LOJUBT_"
      },
      "outputs": [],
      "source": [
        "import numpy as np\n",
        "import numpy.ma as ma"
      ]
    },
    {
      "cell_type": "markdown",
      "metadata": {
        "id": "FU1MjC47TuAZ"
      },
      "source": [
        "<h4><b>1. Create these lists without NumPy:</b></h4>\n",
        "\n",
        "- List of 15 ones\n",
        "\n",
        "- List of 15 number 7's\n",
        "\n",
        "- List of numbers from 100 to 150\n",
        "\n",
        "- List of even numbers between 0 and 100\n",
        "\n",
        "- List of years that are divisible by 4 between 1950 and 2020\n",
        "<br>\n"
      ]
    },
    {
      "cell_type": "code",
      "execution_count": 54,
      "metadata": {
        "colab": {
          "base_uri": "https://localhost:8080/"
        },
        "id": "lQbtsN_vTuAZ",
        "outputId": "fb133993-d86c-4b72-f96a-8ab288353fc7"
      },
      "outputs": [
        {
          "name": "stdout",
          "output_type": "stream",
          "text": [
            "[1, 1, 1, 1, 1, 1, 1, 1, 1, 1, 1, 1, 1, 1, 1], lenght = 15\n"
          ]
        }
      ],
      "source": [
        "# Creating list of ones using list comprehesnion\n",
        "list_ones = [1 for number in range(15)]\n",
        "print(f\"{list_ones}, lenght = {len(list_ones)}\")\n"
      ]
    },
    {
      "cell_type": "code",
      "execution_count": 55,
      "metadata": {
        "colab": {
          "base_uri": "https://localhost:8080/"
        },
        "id": "J6pYpRtQVKIH",
        "outputId": "861e8f9d-b109-4f7d-f49a-d404a83b125a"
      },
      "outputs": [
        {
          "name": "stdout",
          "output_type": "stream",
          "text": [
            "[7, 7, 7, 7, 7, 7, 7, 7, 7, 7, 7, 7, 7, 7, 7], lenght = 15\n"
          ]
        }
      ],
      "source": [
        "# Creating list of sevens using while loop\n",
        "list_sevens = []\n",
        "while len(list_sevens) < 15:\n",
        "  list_sevens.append(7)\n",
        "print(f\"{list_sevens}, lenght = {len(list_sevens)}\")\n"
      ]
    },
    {
      "cell_type": "code",
      "execution_count": 56,
      "metadata": {
        "colab": {
          "base_uri": "https://localhost:8080/"
        },
        "id": "ZPKz8J1xVx_m",
        "outputId": "e31a1333-6412-478b-b2b9-6fb7ff42b1db"
      },
      "outputs": [
        {
          "name": "stdout",
          "output_type": "stream",
          "text": [
            "[100, 101, 102, 103, 104, 105, 106, 107, 108, 109, 110, 111, 112, 113, 114, 115, 116, 117, 118, 119, 120, 121, 122, 123, 124, 125, 126, 127, 128, 129, 130, 131, 132, 133, 134, 135, 136, 137, 138, 139, 140, 141, 142, 143, 144, 145, 146, 147, 148, 149, 150]\n"
          ]
        }
      ],
      "source": [
        "# List of numbers 100-150 using for loop\n",
        "list_100 = []\n",
        "for number in range(100, 151):\n",
        "  list_100.append(number)\n",
        "print(list_100)"
      ]
    },
    {
      "cell_type": "code",
      "execution_count": 57,
      "metadata": {
        "colab": {
          "base_uri": "https://localhost:8080/"
        },
        "id": "VeSTPwkJWv8n",
        "outputId": "cd2e0bad-e676-4c8c-e7eb-d84d46fc5645"
      },
      "outputs": [
        {
          "name": "stdout",
          "output_type": "stream",
          "text": [
            "[0, 2, 4, 6, 8, 10, 12, 14, 16, 18, 20, 22, 24, 26, 28, 30, 32, 34, 36, 38, 40, 42, 44, 46, 48, 50, 52, 54, 56, 58, 60, 62, 64, 66, 68, 70, 72, 74, 76, 78, 80, 82, 84, 86, 88, 90, 92, 94, 96, 98, 100]\n"
          ]
        }
      ],
      "source": [
        "# List of even numbers between 0 and 100\n",
        "# Using function range step feature\n",
        "\n",
        "list_evens = [el for el in range(0, 101, 2)]  # Adds every second number in range 0-100\n",
        "print(list_evens)"
      ]
    },
    {
      "cell_type": "code",
      "execution_count": 58,
      "metadata": {
        "colab": {
          "base_uri": "https://localhost:8080/"
        },
        "id": "P5CZsD02XiaS",
        "outputId": "6b954639-97fd-4f0b-a18e-7960e1cd97af"
      },
      "outputs": [
        {
          "name": "stdout",
          "output_type": "stream",
          "text": [
            "[1952, 1956, 1960, 1964, 1968, 1972, 1976, 1980, 1984, 1988, 1992, 1996, 2000, 2004, 2008, 2012, 2016, 2020]\n"
          ]
        }
      ],
      "source": [
        "# List of years that are divisible by 4 between 1950 and 2020\n",
        "# Using list comprehension with if statement\n",
        "list_divisebles = [el for el in range(1950,2021) if (el % 4) == 0]\n",
        "print(list_divisebles)"
      ]
    },
    {
      "cell_type": "markdown",
      "metadata": {
        "id": "v265uo52TuAa"
      },
      "source": [
        "<h4><b>2.\tNow, create these arrays with NumPy!</b></h4>\n",
        "\n",
        "- Array of 15 zeroes\n",
        "\n",
        "- Array of 15 ones\n",
        "\n",
        "- Array of 15 number 7's\n",
        "\n",
        "- Array of numbers from 100 to 150\n",
        "\n",
        "- Array of numbers from 1900 to 2021\n",
        "\n",
        "- Array of even numbers between 0 and 100\n",
        "\n",
        "- Array of years that are divisible by 4 between 1950 and 2020\n",
        "\n"
      ]
    },
    {
      "cell_type": "code",
      "execution_count": 59,
      "metadata": {
        "colab": {
          "base_uri": "https://localhost:8080/"
        },
        "id": "fOzTdKYZTuAa",
        "outputId": "3dcf53a1-15e2-4d9c-b58d-8e62b50f2a2a"
      },
      "outputs": [
        {
          "data": {
            "text/plain": [
              "array([0., 0., 0., 0., 0., 0., 0., 0., 0., 0., 0., 0., 0., 0., 0.])"
            ]
          },
          "execution_count": 59,
          "metadata": {},
          "output_type": "execute_result"
        }
      ],
      "source": [
        "# Array of 15 zeroes\n",
        "a = np.zeros(15)\n",
        "a"
      ]
    },
    {
      "cell_type": "code",
      "execution_count": 60,
      "metadata": {
        "colab": {
          "base_uri": "https://localhost:8080/"
        },
        "id": "jNMhyUuCYeym",
        "outputId": "54cf096b-12d2-4eaf-ade7-5e4f8cdc6c64"
      },
      "outputs": [
        {
          "data": {
            "text/plain": [
              "array([1., 1., 1., 1., 1., 1., 1., 1., 1., 1., 1., 1., 1., 1., 1.])"
            ]
          },
          "execution_count": 60,
          "metadata": {},
          "output_type": "execute_result"
        }
      ],
      "source": [
        "# Array of 15 ones\n",
        "b = np.ones(15)\n",
        "b"
      ]
    },
    {
      "cell_type": "code",
      "execution_count": 61,
      "metadata": {
        "colab": {
          "base_uri": "https://localhost:8080/"
        },
        "id": "MBa9vn32YeX7",
        "outputId": "0ee302ce-1efc-42cd-a91c-826e993e7f9a"
      },
      "outputs": [
        {
          "data": {
            "text/plain": [
              "array([7., 7., 7., 7., 7., 7., 7., 7., 7., 7., 7., 7., 7., 7., 7.])"
            ]
          },
          "execution_count": 61,
          "metadata": {},
          "output_type": "execute_result"
        }
      ],
      "source": [
        "# Array of 15 number 7's\n",
        "c = np.ones(15) * 7\n",
        "c"
      ]
    },
    {
      "cell_type": "code",
      "execution_count": 62,
      "metadata": {
        "colab": {
          "base_uri": "https://localhost:8080/"
        },
        "id": "r-qiEqvhYeUR",
        "outputId": "365a7ecd-0096-4833-b778-437004dd0fa6"
      },
      "outputs": [
        {
          "data": {
            "text/plain": [
              "array([100, 101, 102, 103, 104, 105, 106, 107, 108, 109, 110, 111, 112,\n",
              "       113, 114, 115, 116, 117, 118, 119, 120, 121, 122, 123, 124, 125,\n",
              "       126, 127, 128, 129, 130, 131, 132, 133, 134, 135, 136, 137, 138,\n",
              "       139, 140, 141, 142, 143, 144, 145, 146, 147, 148, 149, 150])"
            ]
          },
          "execution_count": 62,
          "metadata": {},
          "output_type": "execute_result"
        }
      ],
      "source": [
        "# Array of numbers from 100 to 150\n",
        "d = np.arange(100,151)\n",
        "d"
      ]
    },
    {
      "cell_type": "code",
      "execution_count": 63,
      "metadata": {
        "colab": {
          "base_uri": "https://localhost:8080/"
        },
        "id": "UHsJHpSsYeQS",
        "outputId": "39607173-8634-4755-d1b8-2bf4d8a739cd"
      },
      "outputs": [
        {
          "data": {
            "text/plain": [
              "array([1900, 1901, 1902, 1903, 1904, 1905, 1906, 1907, 1908, 1909, 1910,\n",
              "       1911, 1912, 1913, 1914, 1915, 1916, 1917, 1918, 1919, 1920, 1921,\n",
              "       1922, 1923, 1924, 1925, 1926, 1927, 1928, 1929, 1930, 1931, 1932,\n",
              "       1933, 1934, 1935, 1936, 1937, 1938, 1939, 1940, 1941, 1942, 1943,\n",
              "       1944, 1945, 1946, 1947, 1948, 1949, 1950, 1951, 1952, 1953, 1954,\n",
              "       1955, 1956, 1957, 1958, 1959, 1960, 1961, 1962, 1963, 1964, 1965,\n",
              "       1966, 1967, 1968, 1969, 1970, 1971, 1972, 1973, 1974, 1975, 1976,\n",
              "       1977, 1978, 1979, 1980, 1981, 1982, 1983, 1984, 1985, 1986, 1987,\n",
              "       1988, 1989, 1990, 1991, 1992, 1993, 1994, 1995, 1996, 1997, 1998,\n",
              "       1999, 2000, 2001, 2002, 2003, 2004, 2005, 2006, 2007, 2008, 2009,\n",
              "       2010, 2011, 2012, 2013, 2014, 2015, 2016, 2017, 2018, 2019, 2020,\n",
              "       2021])"
            ]
          },
          "execution_count": 63,
          "metadata": {},
          "output_type": "execute_result"
        }
      ],
      "source": [
        "# Array of numbers from 1900 to 2021\n",
        "e = np.arange(1900, 2022)\n",
        "e"
      ]
    },
    {
      "cell_type": "code",
      "execution_count": 64,
      "metadata": {
        "colab": {
          "base_uri": "https://localhost:8080/"
        },
        "id": "4jfRntB-YeKa",
        "outputId": "0757fb49-f50c-4474-99ee-4936e8f1ea7b"
      },
      "outputs": [
        {
          "data": {
            "text/plain": [
              "array([  0,   2,   4,   6,   8,  10,  12,  14,  16,  18,  20,  22,  24,\n",
              "        26,  28,  30,  32,  34,  36,  38,  40,  42,  44,  46,  48,  50,\n",
              "        52,  54,  56,  58,  60,  62,  64,  66,  68,  70,  72,  74,  76,\n",
              "        78,  80,  82,  84,  86,  88,  90,  92,  94,  96,  98, 100])"
            ]
          },
          "execution_count": 64,
          "metadata": {},
          "output_type": "execute_result"
        }
      ],
      "source": [
        "# Array of even numbers between 0 and 100\n",
        "d = np.arange(0, 101, 2)\n",
        "d"
      ]
    },
    {
      "cell_type": "code",
      "execution_count": 65,
      "metadata": {
        "colab": {
          "base_uri": "https://localhost:8080/"
        },
        "id": "kDBGPrJqYeA7",
        "outputId": "fbef6aa7-8a3a-4dfa-e635-bc221143376a"
      },
      "outputs": [
        {
          "data": {
            "text/plain": [
              "array([1952, 1956, 1960, 1964, 1968, 1972, 1976, 1980, 1984, 1988, 1992,\n",
              "       1996, 2000, 2004, 2008, 2012, 2016, 2020])"
            ]
          },
          "execution_count": 65,
          "metadata": {},
          "output_type": "execute_result"
        }
      ],
      "source": [
        "# Array of years that are divisible by 4 between 1950 and 2020\n",
        "f = np.array([year for year in range(1950, 2021) if year % 4 == 0])\n",
        "f"
      ]
    },
    {
      "cell_type": "markdown",
      "metadata": {
        "id": "rT4eM-XmTuAa"
      },
      "source": [
        "<h4><b style=\"color: red\">Note: compare the NumPy code to the plain Python code after doing the exercises. Easier or more difficult? :) \n",
        "(answer in code comments or as text in Jupyter Notebook)</b></h4>"
      ]
    },
    {
      "cell_type": "markdown",
      "metadata": {
        "id": "vqMPwFjycCLB"
      },
      "source": [
        "*It is way more easier than using loops.*\n",
        "\n",
        "*But for me it is pretty close to list comprehesion if we are speaking about a bit more complex lists\\arrays. For example these are pretty much the same:*\n",
        "<pre>list_divisebles = [el for el in range(1950,2021) if (el % 4) == 0]</pre>\n",
        "<pre>f = np.array([year for year in range(1950, 2021) if year % 4 == 0])</pre>\n",
        "*Anyways I'm quite sure that numpy is better solution for even more complicated data like multidimensional arrays.*\n"
      ]
    },
    {
      "cell_type": "markdown",
      "metadata": {
        "id": "KfVUSoRqTuAb"
      },
      "source": [
        "<h3><b>3. Let's try out NumPy matrices:</b></h3>\n",
        "\n",
        "- Create a 7x7 matrix, with values from 1 to 49\n",
        "\n",
        "    - Extra task: Create this matrix (list of lists) without NumPy in Python!\n",
        "\n",
        "<br>\n",
        "\n",
        "- Generate 8x8 random number matrix, values between 0 and 5\n",
        "\n",
        "- Generate 8x8 random number matrix, using standard normal distribution values (= values are between -3 and 3)\n"
      ]
    },
    {
      "cell_type": "code",
      "execution_count": 66,
      "metadata": {
        "colab": {
          "base_uri": "https://localhost:8080/"
        },
        "id": "ys3UVSG4TuAb",
        "outputId": "6ef83fe2-3744-4a79-b0ba-c74951fd7e71"
      },
      "outputs": [
        {
          "data": {
            "text/plain": [
              "array([[ 1,  2,  3,  4,  5,  6,  7],\n",
              "       [ 8,  9, 10, 11, 12, 13, 14],\n",
              "       [15, 16, 17, 18, 19, 20, 21],\n",
              "       [22, 23, 24, 25, 26, 27, 28],\n",
              "       [29, 30, 31, 32, 33, 34, 35],\n",
              "       [36, 37, 38, 39, 40, 41, 42],\n",
              "       [43, 44, 45, 46, 47, 48, 49]])"
            ]
          },
          "execution_count": 66,
          "metadata": {},
          "output_type": "execute_result"
        }
      ],
      "source": [
        "# 7x7 matrix, with values from 1 to 49\n",
        "\n",
        "# Firstly creating list 1-49 and then reshaping ii into 7x7 matrix \n",
        "# using np.reshape()\n",
        "np_matrix = np.arange(1,50).reshape(7,7)\n",
        "np_matrix"
      ]
    },
    {
      "cell_type": "code",
      "execution_count": 67,
      "metadata": {
        "colab": {
          "base_uri": "https://localhost:8080/"
        },
        "id": "QnFBjoG5eJi3",
        "outputId": "4c6ffdd3-b45b-4f22-8927-ca984de23380"
      },
      "outputs": [
        {
          "data": {
            "text/plain": [
              "[[1, 2, 3, 4, 5, 6, 7],\n",
              " [8, 9, 10, 11, 12, 13, 14],\n",
              " [15, 16, 17, 18, 19, 20, 21],\n",
              " [22, 23, 24, 25, 26, 27, 28],\n",
              " [29, 30, 31, 32, 33, 34, 35],\n",
              " [36, 37, 38, 39, 40, 41, 42],\n",
              " [43, 44, 45, 46, 47, 48, 49]]"
            ]
          },
          "execution_count": 67,
          "metadata": {},
          "output_type": "execute_result"
        }
      ],
      "source": [
        "# Extra task: Create this matrix (list of lists) without NumPy in Python!\n",
        "\n",
        "# Firstly, creating 7x7 list of same lists 1-7\n",
        "list_of_lists = [[el for el in range(1, 8)] for dimension in range(1,8)]\n",
        "\n",
        "# Iterating through dimensions:\n",
        "for ind, value in enumerate(list_of_lists):\n",
        "\n",
        "  # Changing integers in lists to ones we need, with addition of\n",
        "  # list index multiplied by lenght of list (always 7 in this case)\n",
        "  for number in range(len(value)):\n",
        "    list_of_lists[ind][number] += len(list_of_lists[ind]) * ind\n",
        "\n",
        "  # This works because difference between for example every number \n",
        "  # of the first list and every number in the same position of the last list is\n",
        "  # 42, which is multiplication of list index(6) and lenght of the list (7). \n",
        "list_of_lists"
      ]
    },
    {
      "cell_type": "code",
      "execution_count": 68,
      "metadata": {
        "colab": {
          "base_uri": "https://localhost:8080/"
        },
        "id": "oG6ryl6dlfeO",
        "outputId": "f8a611b1-1a4a-4e9f-ad24-d5dc82ef8813"
      },
      "outputs": [
        {
          "data": {
            "text/plain": [
              "array([[3, 5, 3, 0, 0, 2, 5, 5],\n",
              "       [5, 0, 4, 4, 5, 1, 1, 5],\n",
              "       [4, 4, 0, 3, 0, 1, 0, 5],\n",
              "       [3, 0, 0, 2, 1, 1, 3, 4],\n",
              "       [3, 2, 4, 3, 3, 1, 1, 4],\n",
              "       [2, 0, 3, 4, 4, 3, 0, 1],\n",
              "       [0, 2, 5, 5, 4, 1, 5, 4],\n",
              "       [2, 2, 4, 4, 2, 4, 5, 3]])"
            ]
          },
          "execution_count": 68,
          "metadata": {},
          "output_type": "execute_result"
        }
      ],
      "source": [
        "# Generate 8x8 random number matrix, values between 0 and 5\n",
        "\n",
        "random_matrix_8x8 = np.random.randint(0,6,(8, 8))\n",
        "random_matrix_8x8"
      ]
    },
    {
      "cell_type": "code",
      "execution_count": 69,
      "metadata": {
        "colab": {
          "base_uri": "https://localhost:8080/"
        },
        "id": "OFeh0-NjmxYB",
        "outputId": "95531b32-4fcb-422f-9dde-08dd127af99f"
      },
      "outputs": [
        {
          "data": {
            "text/plain": [
              "array([[ 1.02266637,  0.73225723,  2.22751802, -0.40845413, -0.04931749,\n",
              "        -1.56105334,  0.02475347, -2.17224201],\n",
              "       [ 0.92066496, -0.16835121, -0.13720674,  1.1795562 ,  0.61935316,\n",
              "        -0.06838471,  0.47103913,  0.29763349],\n",
              "       [ 0.02611602,  0.1930356 ,  0.28512529,  1.44364093, -0.28007575,\n",
              "        -0.66720757, -0.49589599, -0.85748975],\n",
              "       [-0.05374111, -0.22913383,  1.19401926,  0.21298625, -0.73098132,\n",
              "         0.46104652,  1.29000571,  2.04057681],\n",
              "       [-1.00574349,  1.94990821, -1.1233244 ,  1.04821392, -0.25922141,\n",
              "         2.50811011, -0.50170447,  0.30427116],\n",
              "       [-0.77372115, -1.30858817, -0.22575834, -1.29806635,  0.64879514,\n",
              "        -0.59293386, -0.15138714, -0.60417304],\n",
              "       [-1.87847866,  1.71601572, -0.99453975, -0.64277075,  0.83717052,\n",
              "         0.95696622,  2.04296826,  0.5769497 ],\n",
              "       [-0.19924916,  0.00616422, -1.75014139,  0.39523162,  0.16910473,\n",
              "         0.43702064, -2.11603376, -0.14557345]])"
            ]
          },
          "execution_count": 69,
          "metadata": {},
          "output_type": "execute_result"
        }
      ],
      "source": [
        "# Generate 8x8 random number matrix, using standard normal distribution values (= values are between -3 and 3)\n",
        "\n",
        "st_distribution_8x8 = np.random.randn(8,8)\n",
        "st_distribution_8x8"
      ]
    },
    {
      "cell_type": "markdown",
      "metadata": {
        "id": "S-Bz3DNDTuAb"
      },
      "source": [
        "<h3><b>4. Create a linearly spaced… </b></h3>\n",
        "\n",
        "- array (list/vector) of 10 values between value 0 and 1\n",
        "\n",
        "- 10x10 matrix between values 0 and 5\n",
        "\n",
        "    - Extra task: create this matrix without NumPy as well!\n",
        "\n",
        "\n",
        "<img src=\"http://srv.plab.fi/~tuomasv/data_analytics_2023_images/exercise_set_1/cubes.png\"/>\n"
      ]
    },
    {
      "cell_type": "code",
      "execution_count": 70,
      "metadata": {
        "colab": {
          "base_uri": "https://localhost:8080/"
        },
        "id": "wR914IZrTuAc",
        "outputId": "dab83a4f-dfa2-471b-b72c-266d28e77356"
      },
      "outputs": [
        {
          "data": {
            "text/plain": [
              "array([0.        , 0.11111111, 0.22222222, 0.33333333, 0.44444444,\n",
              "       0.55555556, 0.66666667, 0.77777778, 0.88888889, 1.        ])"
            ]
          },
          "execution_count": 70,
          "metadata": {},
          "output_type": "execute_result"
        }
      ],
      "source": [
        "# Array (list/vector) of 10 values between value 0 and 1\n",
        "array_ten_values = np.linspace(0, 1, 10)\n",
        "array_ten_values"
      ]
    },
    {
      "cell_type": "code",
      "execution_count": 71,
      "metadata": {
        "colab": {
          "base_uri": "https://localhost:8080/"
        },
        "id": "3j2TAYucn9L-",
        "outputId": "6971c871-51c8-4a7a-f741-c0ca484c1d0b"
      },
      "outputs": [
        {
          "data": {
            "text/plain": [
              "array([[0.        , 0.05050505, 0.1010101 , 0.15151515, 0.2020202 ,\n",
              "        0.25252525, 0.3030303 , 0.35353535, 0.4040404 , 0.45454545],\n",
              "       [0.50505051, 0.55555556, 0.60606061, 0.65656566, 0.70707071,\n",
              "        0.75757576, 0.80808081, 0.85858586, 0.90909091, 0.95959596],\n",
              "       [1.01010101, 1.06060606, 1.11111111, 1.16161616, 1.21212121,\n",
              "        1.26262626, 1.31313131, 1.36363636, 1.41414141, 1.46464646],\n",
              "       [1.51515152, 1.56565657, 1.61616162, 1.66666667, 1.71717172,\n",
              "        1.76767677, 1.81818182, 1.86868687, 1.91919192, 1.96969697],\n",
              "       [2.02020202, 2.07070707, 2.12121212, 2.17171717, 2.22222222,\n",
              "        2.27272727, 2.32323232, 2.37373737, 2.42424242, 2.47474747],\n",
              "       [2.52525253, 2.57575758, 2.62626263, 2.67676768, 2.72727273,\n",
              "        2.77777778, 2.82828283, 2.87878788, 2.92929293, 2.97979798],\n",
              "       [3.03030303, 3.08080808, 3.13131313, 3.18181818, 3.23232323,\n",
              "        3.28282828, 3.33333333, 3.38383838, 3.43434343, 3.48484848],\n",
              "       [3.53535354, 3.58585859, 3.63636364, 3.68686869, 3.73737374,\n",
              "        3.78787879, 3.83838384, 3.88888889, 3.93939394, 3.98989899],\n",
              "       [4.04040404, 4.09090909, 4.14141414, 4.19191919, 4.24242424,\n",
              "        4.29292929, 4.34343434, 4.39393939, 4.44444444, 4.49494949],\n",
              "       [4.54545455, 4.5959596 , 4.64646465, 4.6969697 , 4.74747475,\n",
              "        4.7979798 , 4.84848485, 4.8989899 , 4.94949495, 5.        ]])"
            ]
          },
          "execution_count": 71,
          "metadata": {},
          "output_type": "execute_result"
        }
      ],
      "source": [
        "# 10x10 matrix between values 0 and 5\n",
        "np_matrix_10x10 = np.linspace(0, 5, 100).reshape(10, 10)\n",
        "np_matrix_10x10"
      ]
    },
    {
      "cell_type": "code",
      "execution_count": 72,
      "metadata": {
        "colab": {
          "base_uri": "https://localhost:8080/"
        },
        "id": "1kH9cyXRn9Fl",
        "outputId": "481b65c9-beb7-4824-afb7-aea2755b1dee"
      },
      "outputs": [
        {
          "data": {
            "text/plain": [
              "[[0.0,\n",
              "  0.05,\n",
              "  0.1,\n",
              "  0.15000000000000002,\n",
              "  0.2,\n",
              "  0.25,\n",
              "  0.30000000000000004,\n",
              "  0.35000000000000003,\n",
              "  0.4,\n",
              "  0.45],\n",
              " [0.5,\n",
              "  0.55,\n",
              "  0.6000000000000001,\n",
              "  0.65,\n",
              "  0.7000000000000001,\n",
              "  0.75,\n",
              "  0.8,\n",
              "  0.8500000000000001,\n",
              "  0.9,\n",
              "  0.9500000000000001],\n",
              " [1.0,\n",
              "  1.05,\n",
              "  1.1,\n",
              "  1.1500000000000001,\n",
              "  1.2000000000000002,\n",
              "  1.25,\n",
              "  1.3,\n",
              "  1.35,\n",
              "  1.4000000000000001,\n",
              "  1.4500000000000002],\n",
              " [1.5,\n",
              "  1.55,\n",
              "  1.6,\n",
              "  1.6500000000000001,\n",
              "  1.7000000000000002,\n",
              "  1.75,\n",
              "  1.8,\n",
              "  1.85,\n",
              "  1.9000000000000001,\n",
              "  1.9500000000000002],\n",
              " [2.0,\n",
              "  2.0500000000000003,\n",
              "  2.1,\n",
              "  2.15,\n",
              "  2.2,\n",
              "  2.25,\n",
              "  2.3000000000000003,\n",
              "  2.35,\n",
              "  2.4000000000000004,\n",
              "  2.45],\n",
              " [2.5,\n",
              "  2.5500000000000003,\n",
              "  2.6,\n",
              "  2.6500000000000004,\n",
              "  2.7,\n",
              "  2.75,\n",
              "  2.8000000000000003,\n",
              "  2.85,\n",
              "  2.9000000000000004,\n",
              "  2.95],\n",
              " [3.0,\n",
              "  3.0500000000000003,\n",
              "  3.1,\n",
              "  3.1500000000000004,\n",
              "  3.2,\n",
              "  3.25,\n",
              "  3.3000000000000003,\n",
              "  3.35,\n",
              "  3.4000000000000004,\n",
              "  3.45],\n",
              " [3.5,\n",
              "  3.5500000000000003,\n",
              "  3.6,\n",
              "  3.6500000000000004,\n",
              "  3.7,\n",
              "  3.75,\n",
              "  3.8000000000000003,\n",
              "  3.85,\n",
              "  3.9000000000000004,\n",
              "  3.95],\n",
              " [4.0,\n",
              "  4.05,\n",
              "  4.1000000000000005,\n",
              "  4.15,\n",
              "  4.2,\n",
              "  4.25,\n",
              "  4.3,\n",
              "  4.3500000000000005,\n",
              "  4.4,\n",
              "  4.45],\n",
              " [4.5,\n",
              "  4.55,\n",
              "  4.6000000000000005,\n",
              "  4.65,\n",
              "  4.7,\n",
              "  4.75,\n",
              "  4.800000000000001,\n",
              "  4.8500000000000005,\n",
              "  4.9,\n",
              "  4.95],\n",
              " [5.0]]"
            ]
          },
          "execution_count": 72,
          "metadata": {},
          "output_type": "execute_result"
        }
      ],
      "source": [
        "# Extra task: create this matrix (10x10, values betweeb 0 and 5) \n",
        "# without NumPy as well!\n",
        "\n",
        "raw_list = []\n",
        "nested_lists = []\n",
        "counter = 0\n",
        "# Let's findout what is our step:\n",
        "step = 5 / 100\n",
        "\n",
        "# Creating a list 0-5 with 100 steps\n",
        "for el in range(0,101):\n",
        "  el *= step\n",
        "  raw_list.append(el)\n",
        "\n",
        "# Than let's create a new version of it, 10 nested lists\n",
        "while counter < len(raw_list):\n",
        "  nested_lists.append(raw_list[counter : counter+10])\n",
        "  counter += 10\n",
        "nested_lists\n"
      ]
    },
    {
      "cell_type": "markdown",
      "metadata": {
        "id": "u9xRNhr4TuAc"
      },
      "source": [
        "<h3><b>5. Recreate the matrices in code based on the pictures.</b></h3>\n",
        "\n",
        "- Create this 3x5 matrix with NumPy:\n",
        "\n",
        "<img src=\"http://srv.plab.fi/~tuomasv/data_analytics_2023_images/exercise_set_1/matrix1.png\"/>\n",
        "\n",
        "Note: The values above have no logic, you'll have to feed basic Python lists to NumPy for this result\n"
      ]
    },
    {
      "cell_type": "markdown",
      "metadata": {
        "id": "y2LKQaKi0hZg"
      },
      "source": []
    },
    {
      "cell_type": "code",
      "execution_count": 73,
      "metadata": {
        "colab": {
          "base_uri": "https://localhost:8080/"
        },
        "id": "8FHzzlNATuAc",
        "outputId": "7b3a5615-fa5f-408a-e892-96ceb55877c8"
      },
      "outputs": [
        {
          "data": {
            "text/plain": [
              "array([[23, 34, 54, 31, 75],\n",
              "       [33, 56, 78, 65, 97],\n",
              "       [41, 32, 11, 39, 51]])"
            ]
          },
          "execution_count": 73,
          "metadata": {},
          "output_type": "execute_result"
        }
      ],
      "source": [
        "list1 = [23, 34, 54 ,31, 75]\n",
        "list2 = [33, 56, 78, 65, 97]\n",
        "list3 = [41, 32, 11, 39, 51]\n",
        "\n",
        "recreate_array1 = np.array([list1, list2, list3])\n",
        "recreate_array1"
      ]
    },
    {
      "cell_type": "markdown",
      "metadata": {
        "id": "S3npeYUfTuAc"
      },
      "source": [
        "- Generate this NumPy array:\n",
        "\n",
        "<img src=\"http://srv.plab.fi/~tuomasv/data_analytics_2023_images/exercise_set_1/matrix2.png\" width=\"800\"/>"
      ]
    },
    {
      "cell_type": "code",
      "execution_count": 74,
      "metadata": {
        "colab": {
          "base_uri": "https://localhost:8080/"
        },
        "id": "8g8cvQ0-TuAc",
        "outputId": "d5ab8b74-98e7-4c02-873e-3190952c4293"
      },
      "outputs": [
        {
          "data": {
            "text/plain": [
              "array([[128, 129, 130, 131, 132, 133, 134, 135, 136, 137, 138, 139, 140,\n",
              "        141, 142, 143],\n",
              "       [144, 145, 146, 147, 148, 149, 150, 151, 152, 153, 154, 155, 156,\n",
              "        157, 158, 159],\n",
              "       [160, 161, 162, 163, 164, 165, 166, 167, 168, 169, 170, 171, 172,\n",
              "        173, 174, 175],\n",
              "       [176, 177, 178, 179, 180, 181, 182, 183, 184, 185, 186, 187, 188,\n",
              "        189, 190, 191],\n",
              "       [192, 193, 194, 195, 196, 197, 198, 199, 200, 201, 202, 203, 204,\n",
              "        205, 206, 207],\n",
              "       [208, 209, 210, 211, 212, 213, 214, 215, 216, 217, 218, 219, 220,\n",
              "        221, 222, 223],\n",
              "       [224, 225, 226, 227, 228, 229, 230, 231, 232, 233, 234, 235, 236,\n",
              "        237, 238, 239],\n",
              "       [240, 241, 242, 243, 244, 245, 246, 247, 248, 249, 250, 251, 252,\n",
              "        253, 254, 255]])"
            ]
          },
          "execution_count": 74,
          "metadata": {},
          "output_type": "execute_result"
        }
      ],
      "source": [
        "# exercise 1.5b, generate NumPy array / matrix\n",
        "\n",
        "recreate_array_2 = np.array(range(128,256)).reshape(8,16)\n",
        "recreate_array_2"
      ]
    },
    {
      "cell_type": "markdown",
      "metadata": {
        "id": "ZC8rE8wJTuAc"
      },
      "source": [
        "- Generate this NumPy array:\n",
        "\n",
        "<img src=\"http://srv.plab.fi/~tuomasv/data_analytics_2023_images/exercise_set_1/matrix3.png\" width=\"500\"/>\n",
        "\n",
        "<b>Tips:</b> arange-function (and step-parameter) + reshape is recommended. Alternatively you can use broadcasting and division if you like."
      ]
    },
    {
      "cell_type": "code",
      "execution_count": 75,
      "metadata": {
        "colab": {
          "base_uri": "https://localhost:8080/"
        },
        "id": "El8Ev7OPTuAd",
        "outputId": "26fd4a80-737b-4485-aa38-36a5ceb44a9d"
      },
      "outputs": [
        {
          "data": {
            "text/plain": [
              "array([[0.05, 0.1 , 0.15, 0.2 , 0.25, 0.3 , 0.35, 0.4 , 0.45, 0.5 ],\n",
              "       [0.55, 0.6 , 0.65, 0.7 , 0.75, 0.8 , 0.85, 0.9 , 0.95, 1.  ],\n",
              "       [1.05, 1.1 , 1.15, 1.2 , 1.25, 1.3 , 1.35, 1.4 , 1.45, 1.5 ],\n",
              "       [1.55, 1.6 , 1.65, 1.7 , 1.75, 1.8 , 1.85, 1.9 , 1.95, 2.  ],\n",
              "       [2.05, 2.1 , 2.15, 2.2 , 2.25, 2.3 , 2.35, 2.4 , 2.45, 2.5 ],\n",
              "       [2.55, 2.6 , 2.65, 2.7 , 2.75, 2.8 , 2.85, 2.9 , 2.95, 3.  ],\n",
              "       [3.05, 3.1 , 3.15, 3.2 , 3.25, 3.3 , 3.35, 3.4 , 3.45, 3.5 ],\n",
              "       [3.55, 3.6 , 3.65, 3.7 , 3.75, 3.8 , 3.85, 3.9 , 3.95, 4.  ],\n",
              "       [4.05, 4.1 , 4.15, 4.2 , 4.25, 4.3 , 4.35, 4.4 , 4.45, 4.5 ],\n",
              "       [4.55, 4.6 , 4.65, 4.7 , 4.75, 4.8 , 4.85, 4.9 , 4.95, 5.  ]])"
            ]
          },
          "execution_count": 75,
          "metadata": {},
          "output_type": "execute_result"
        }
      ],
      "source": [
        "# exercise 1.5c, generate NumPy array / matrix\n",
        "recreate_array3 = np.arange(0.05, 5.05, 0.05).reshape(10,10)\n",
        "recreate_array3"
      ]
    },
    {
      "cell_type": "markdown",
      "metadata": {
        "id": "U9APgPL7TuAd"
      },
      "source": [
        "<h3><b>6. Use this matrix in your code:</b></h3>\n",
        "\n",
        "dataset = np.arange(1, 37).reshape(6, 6)\n",
        "\n",
        "<img src=\"http://srv.plab.fi/~tuomasv/data_analytics_2023_images/exercise_set_1/matrix4.png\"/>\n"
      ]
    },
    {
      "cell_type": "code",
      "execution_count": 76,
      "metadata": {
        "colab": {
          "base_uri": "https://localhost:8080/"
        },
        "id": "Pad8XYbcTuAd",
        "outputId": "46d25163-eb17-45fb-a7cc-4c668c9e4ec7"
      },
      "outputs": [
        {
          "data": {
            "text/plain": [
              "array([[ 1,  2,  3,  4,  5,  6],\n",
              "       [ 7,  8,  9, 10, 11, 12],\n",
              "       [13, 14, 15, 16, 17, 18],\n",
              "       [19, 20, 21, 22, 23, 24],\n",
              "       [25, 26, 27, 28, 29, 30],\n",
              "       [31, 32, 33, 34, 35, 36]])"
            ]
          },
          "execution_count": 76,
          "metadata": {},
          "output_type": "execute_result"
        }
      ],
      "source": [
        "# exercise 1.6a, matrix slicing\n",
        "dataset = np.arange(1, 37).reshape(6, 6)\n",
        "dataset"
      ]
    },
    {
      "cell_type": "markdown",
      "metadata": {
        "id": "R_f6wGbvTuAd"
      },
      "source": [
        "- Create a slice of the matrix that contains this part of the matrix:\n",
        "\n",
        "<img src=\"http://srv.plab.fi/~tuomasv/data_analytics_2023_images/exercise_set_1/matrix5.png\"/>"
      ]
    },
    {
      "cell_type": "code",
      "execution_count": 77,
      "metadata": {
        "colab": {
          "base_uri": "https://localhost:8080/"
        },
        "id": "prjmWv2qTuAd",
        "outputId": "05cc6529-c294-4edc-8b30-65e7616c4a19"
      },
      "outputs": [
        {
          "data": {
            "text/plain": [
              "array([[21, 22, 23, 24],\n",
              "       [27, 28, 29, 30],\n",
              "       [33, 34, 35, 36]])"
            ]
          },
          "execution_count": 77,
          "metadata": {},
          "output_type": "execute_result"
        }
      ],
      "source": [
        "# exercise 1.6b, matrix slicing\n",
        "\n",
        "slice_b = np.array(dataset[3:,2:])\n",
        "slice_b"
      ]
    },
    {
      "cell_type": "markdown",
      "metadata": {
        "id": "emB-BhydTuAd"
      },
      "source": [
        "- Pick out this column slice from data\n",
        "\n",
        "<img src=\"http://srv.plab.fi/~tuomasv/data_analytics_2023_images/exercise_set_1/series1.png\"/>"
      ]
    },
    {
      "cell_type": "code",
      "execution_count": 78,
      "metadata": {
        "colab": {
          "base_uri": "https://localhost:8080/"
        },
        "id": "OsRn900TTuAd",
        "outputId": "d9200993-2a1e-46b9-a6a6-0a692f76be11"
      },
      "outputs": [
        {
          "data": {
            "text/plain": [
              "array([ 4, 10, 16, 22])"
            ]
          },
          "execution_count": 78,
          "metadata": {},
          "output_type": "execute_result"
        }
      ],
      "source": [
        "# exercise 1.6c, matrix slicing\n",
        "\n",
        "slice_c = np.array(dataset[0:4,3])\n",
        "slice_c"
      ]
    },
    {
      "cell_type": "markdown",
      "metadata": {
        "id": "3xCembH6TuAe"
      },
      "source": [
        "- Pick out this row from the data\n",
        "\n",
        "<img src=\"http://srv.plab.fi/~tuomasv/data_analytics_2023_images/exercise_set_1/series2.png\"/>"
      ]
    },
    {
      "cell_type": "code",
      "execution_count": 79,
      "metadata": {
        "colab": {
          "base_uri": "https://localhost:8080/"
        },
        "id": "cq3BMxXhTuAe",
        "outputId": "8b69a47b-b894-4542-ac1b-2c18e03d87e2"
      },
      "outputs": [
        {
          "data": {
            "text/plain": [
              "array([13, 14, 15, 16, 17, 18])"
            ]
          },
          "execution_count": 79,
          "metadata": {},
          "output_type": "execute_result"
        }
      ],
      "source": [
        "# exercise 1.6d, matrix slicing\n",
        "\n",
        "slice_d = np.array(dataset[2])\n",
        "slice_d"
      ]
    },
    {
      "cell_type": "markdown",
      "metadata": {
        "id": "PVgCPaLDTuAe"
      },
      "source": [
        "- Pick out these three rows from data:\n",
        "\n",
        "<img src=\"http://srv.plab.fi/~tuomasv/data_analytics_2023_images/exercise_set_1/matrix6.png\"/>"
      ]
    },
    {
      "cell_type": "code",
      "execution_count": 80,
      "metadata": {
        "colab": {
          "base_uri": "https://localhost:8080/"
        },
        "id": "Xn817zNjTuAe",
        "outputId": "5200605a-e426-4142-e349-91e810fb9109"
      },
      "outputs": [
        {
          "data": {
            "text/plain": [
              "array([[19, 20, 21, 22, 23, 24],\n",
              "       [25, 26, 27, 28, 29, 30],\n",
              "       [31, 32, 33, 34, 35, 36]])"
            ]
          },
          "execution_count": 80,
          "metadata": {},
          "output_type": "execute_result"
        }
      ],
      "source": [
        "# exercise 1.6e, matrix slicing\n",
        "\n",
        "slice_e = np.array(dataset[3:])\n",
        "slice_e"
      ]
    },
    {
      "cell_type": "markdown",
      "metadata": {
        "id": "AW0r_yNaTuAe"
      },
      "source": [
        "<h3><b>7. Use this matrix:</b></h3>\n",
        "\n",
        "<b>dataset_2 = np.arange(1, 50).reshape(7, 7)</b>\n",
        "\n",
        "- Add 50 to all values in the array (use broadcasting)\n",
        "\n",
        "- Get the sum of all values in the dataset\n",
        "\n",
        "- Get sum of only odd numbers in the dataset\n",
        "\n",
        "- Get the standard deviation of the values in the dataset\n",
        "\n",
        "- Get the sum of all values by ROW in the dataset\n",
        "\n",
        "- Get the sum of all values by COLUMN in the dataset (tip, use the axis –parameter)\n",
        "\n",
        "<br>\n",
        "\n",
        "- <b>Extra task:</b> Do the total sum, row sum and column sum exercises< <b>without</b> NumPy in Python!\n",
        "\n",
        "<br><br>\n",
        "<img src=\"http://srv.plab.fi/~tuomasv/data_analytics_2023_images/exercise_set_1/desktopcomputer.png\"/>\n"
      ]
    },
    {
      "cell_type": "code",
      "execution_count": 81,
      "metadata": {
        "colab": {
          "base_uri": "https://localhost:8080/"
        },
        "id": "CVWJ9BT8TuAe",
        "outputId": "f9bfcc52-ba99-4dd6-8ecc-a346c9fd1dfa"
      },
      "outputs": [
        {
          "data": {
            "text/plain": [
              "array([[ 1,  2,  3,  4,  5,  6,  7],\n",
              "       [ 8,  9, 10, 11, 12, 13, 14],\n",
              "       [15, 16, 17, 18, 19, 20, 21],\n",
              "       [22, 23, 24, 25, 26, 27, 28],\n",
              "       [29, 30, 31, 32, 33, 34, 35],\n",
              "       [36, 37, 38, 39, 40, 41, 42],\n",
              "       [43, 44, 45, 46, 47, 48, 49]])"
            ]
          },
          "execution_count": 81,
          "metadata": {},
          "output_type": "execute_result"
        }
      ],
      "source": [
        "# exercise 1.7, NumPy -operations on a matrix\n",
        "dataset_2 = np.arange(1, 50).reshape(7, 7)\n",
        "dataset_2"
      ]
    },
    {
      "cell_type": "code",
      "execution_count": 82,
      "metadata": {
        "colab": {
          "base_uri": "https://localhost:8080/"
        },
        "id": "aMWLdFPB8cU4",
        "outputId": "41c7fb04-9df8-4b39-ac77-514bfdf4b362"
      },
      "outputs": [
        {
          "data": {
            "text/plain": [
              "array([[51, 52, 53, 54, 55, 56, 57],\n",
              "       [58, 59, 60, 61, 62, 63, 64],\n",
              "       [65, 66, 67, 68, 69, 70, 71],\n",
              "       [72, 73, 74, 75, 76, 77, 78],\n",
              "       [79, 80, 81, 82, 83, 84, 85],\n",
              "       [86, 87, 88, 89, 90, 91, 92],\n",
              "       [93, 94, 95, 96, 97, 98, 99]])"
            ]
          },
          "execution_count": 82,
          "metadata": {},
          "output_type": "execute_result"
        }
      ],
      "source": [
        "# Add 50 to all values in the array (use broadcasting)\n",
        "\n",
        "z = dataset_2 + 50\n",
        "z"
      ]
    },
    {
      "cell_type": "code",
      "execution_count": 83,
      "metadata": {
        "colab": {
          "base_uri": "https://localhost:8080/"
        },
        "id": "G_8pWrLy8cU4",
        "outputId": "b30b06ba-5156-4b08-d911-f1a45082786c"
      },
      "outputs": [
        {
          "data": {
            "text/plain": [
              "1225"
            ]
          },
          "execution_count": 83,
          "metadata": {},
          "output_type": "execute_result"
        }
      ],
      "source": [
        "# Get the sum of all values in the dataset\n",
        "\n",
        "x = np.sum(dataset_2)\n",
        "x"
      ]
    },
    {
      "cell_type": "code",
      "execution_count": 84,
      "metadata": {
        "colab": {
          "base_uri": "https://localhost:8080/"
        },
        "id": "2Ea1Xxmi8cU4",
        "outputId": "b0fdba99-16f9-4b6c-f666-7ae483297903"
      },
      "outputs": [
        {
          "data": {
            "text/plain": [
              "600"
            ]
          },
          "execution_count": 84,
          "metadata": {},
          "output_type": "execute_result"
        }
      ],
      "source": [
        "# Get sum of only odd numbers in the dataset\n",
        "filtered_data = dataset_2[dataset_2 % 2 ==0]\n",
        "y = np.sum(filtered_data)\n",
        "y"
      ]
    },
    {
      "cell_type": "code",
      "execution_count": 85,
      "metadata": {
        "colab": {
          "base_uri": "https://localhost:8080/"
        },
        "id": "IZfuOy3Z8cU4",
        "outputId": "eb2ee249-ac44-401d-99cc-9c14e1811ad3"
      },
      "outputs": [
        {
          "data": {
            "text/plain": [
              "14.142135623730951"
            ]
          },
          "execution_count": 85,
          "metadata": {},
          "output_type": "execute_result"
        }
      ],
      "source": [
        "# Get the standard deviation of the values in the dataset\n",
        "deviation = np.std(dataset_2)\n",
        "deviation"
      ]
    },
    {
      "cell_type": "code",
      "execution_count": 86,
      "metadata": {
        "colab": {
          "base_uri": "https://localhost:8080/"
        },
        "id": "77PpGtAh8cU4",
        "outputId": "79dfc45a-655c-41d3-eced-e16e02c8a51a"
      },
      "outputs": [
        {
          "name": "stdout",
          "output_type": "stream",
          "text": [
            "[[1 2 3 4 5 6 7]] - Sum = 28\n",
            "[[ 8  9 10 11 12 13 14]] - Sum = 77\n",
            "[[15 16 17 18 19 20 21]] - Sum = 126\n",
            "[[22 23 24 25 26 27 28]] - Sum = 175\n",
            "[[29 30 31 32 33 34 35]] - Sum = 224\n",
            "[[36 37 38 39 40 41 42]] - Sum = 273\n",
            "[[43 44 45 46 47 48 49]] - Sum = 322\n"
          ]
        },
        {
          "data": {
            "text/plain": [
              "array([ 28,  77, 126, 175, 224, 273, 322])"
            ]
          },
          "execution_count": 86,
          "metadata": {},
          "output_type": "execute_result"
        }
      ],
      "source": [
        "# Get the sum of all values by ROW in the dataset\n",
        "\n",
        "# Firstly split dataset in seperate rows\n",
        "vertical = np.vsplit(dataset_2, 7)\n",
        "# Then count sum of each row\n",
        "for el in vertical:\n",
        "  print(f\"{el} - Sum = {np.sum(el)}\") \n",
        "\n",
        "# OR\n",
        "rows_sum = np.sum(dataset_2, axis=1)\n",
        "rows_sum"
      ]
    },
    {
      "cell_type": "code",
      "execution_count": 87,
      "metadata": {
        "colab": {
          "base_uri": "https://localhost:8080/"
        },
        "id": "csHVwk_q8cU4",
        "outputId": "8a9ef2aa-283c-4343-e709-1e6fa5bcc53a"
      },
      "outputs": [
        {
          "data": {
            "text/plain": [
              "array([154, 161, 168, 175, 182, 189, 196])"
            ]
          },
          "execution_count": 87,
          "metadata": {},
          "output_type": "execute_result"
        }
      ],
      "source": [
        "# Get the sum of all values by COLUMN in the dataset (tip, use the axis –parameter)\n",
        "columns_sum = np.sum(dataset_2, axis=0)\n",
        "columns_sum"
      ]
    },
    {
      "cell_type": "markdown",
      "metadata": {
        "id": "RLVQhuPUTuAe"
      },
      "source": [
        "<br><br>\n",
        "<h2><b>Advanced extra tasks for extra points (varying challenges, some require Googling):</b></h2>"
      ]
    },
    {
      "cell_type": "markdown",
      "metadata": {
        "id": "8XXuxEo2TuAf"
      },
      "source": [
        "<h3><b>1. Create two files for this exercise: save_matrix.py and read_matrix.py</b></h3>\n",
        "\n",
        "- in save_matrix.py: create a 15x15 matrix, and save it to a file (matrix.txt)\n",
        " - in read_matrix.py, read matrix.txt, and convert it back to a NumPy matrix\n",
        "\n",
        "NumPy has loadtxt() and savetxt()-functions for these purposes.\n"
      ]
    },
    {
      "cell_type": "code",
      "execution_count": 88,
      "metadata": {
        "id": "2PKcVdNATuAf"
      },
      "outputs": [
        {
          "name": "stdout",
          "output_type": "stream",
          "text": [
            "[[0. 0. 0. 0. 0. 0. 0. 0. 0. 0. 0. 0. 0. 0. 0.]\n",
            " [0. 0. 0. 0. 0. 0. 0. 0. 0. 0. 0. 0. 0. 0. 0.]\n",
            " [0. 0. 0. 0. 0. 0. 0. 0. 0. 0. 0. 0. 0. 0. 0.]\n",
            " [0. 0. 0. 0. 0. 0. 0. 0. 0. 0. 0. 0. 0. 0. 0.]\n",
            " [0. 0. 0. 0. 0. 0. 0. 0. 0. 0. 0. 0. 0. 0. 0.]\n",
            " [0. 0. 0. 0. 0. 0. 0. 0. 0. 0. 0. 0. 0. 0. 0.]\n",
            " [0. 0. 0. 0. 0. 0. 0. 0. 0. 0. 0. 0. 0. 0. 0.]\n",
            " [0. 0. 0. 0. 0. 0. 0. 0. 0. 0. 0. 0. 0. 0. 0.]\n",
            " [0. 0. 0. 0. 0. 0. 0. 0. 0. 0. 0. 0. 0. 0. 0.]\n",
            " [0. 0. 0. 0. 0. 0. 0. 0. 0. 0. 0. 0. 0. 0. 0.]\n",
            " [0. 0. 0. 0. 0. 0. 0. 0. 0. 0. 0. 0. 0. 0. 0.]\n",
            " [0. 0. 0. 0. 0. 0. 0. 0. 0. 0. 0. 0. 0. 0. 0.]\n",
            " [0. 0. 0. 0. 0. 0. 0. 0. 0. 0. 0. 0. 0. 0. 0.]\n",
            " [0. 0. 0. 0. 0. 0. 0. 0. 0. 0. 0. 0. 0. 0. 0.]\n",
            " [0. 0. 0. 0. 0. 0. 0. 0. 0. 0. 0. 0. 0. 0. 0.]]\n"
          ]
        }
      ],
      "source": [
        "# advanced extra exercise 1\n",
        "from save_matrix import save_matrix\n",
        "from read_matrix import read_matrix\n",
        "\n",
        "save_matrix()\n",
        "read_matrix()\n"
      ]
    },
    {
      "cell_type": "markdown",
      "metadata": {
        "id": "4F9xn_3ETuAf"
      },
      "source": [
        "<h3><b>2. Masked arrays are a feature of NumPy that allow us to deal with pieces data that are incorrect or missing in a dataset (for example, faulty measurements from equipment etc.).</b></h3>\n",
        "\n",
        "Create a NumPy matrix, that contains numbers between 0 to 50, and put some faulty numbers in a 10 different spots \n",
        "(for example: -100)\n",
        "\n",
        "Use a masked array to handle the -100 values in your matrix. Replace every -100 with 0.\n"
      ]
    },
    {
      "cell_type": "code",
      "execution_count": 89,
      "metadata": {
        "id": "k1BfoVW7TuAf"
      },
      "outputs": [
        {
          "data": {
            "text/plain": [
              "array([[ 0,  1,  2,  3,  4,  0,  6,  7,  8,  9,  0, 11, 12, 13, 14,  0,\n",
              "        16],\n",
              "       [17, 18, 19,  0, 21, 22, 23, 24,  0, 26, 27, 28, 29,  0, 31, 32,\n",
              "        33],\n",
              "       [34,  0, 36, 37, 38, 39,  0, 41, 42, 43, 44,  0, 46, 47, 48, 49,\n",
              "         0]])"
            ]
          },
          "execution_count": 89,
          "metadata": {},
          "output_type": "execute_result"
        }
      ],
      "source": [
        "# advanced extra exercise 2\n",
        "# Creates a list 0-50 with everty fifth object equal to -100\n",
        "data_raw = [el if (el % 5) != 0 else -100 for el in range(0,51)]\n",
        "\n",
        "# Reshaping the list into 3x17 numpy matrix\n",
        "extra_2_data = np.array(data_raw).reshape(3,17)\n",
        "\n",
        "# numpy.ma.masked_less Return an array masked where condition is True\n",
        "# In this case every value greater then 0 will be True\n",
        "masked = ma.masked_less(extra_2_data, 0)\n",
        "\n",
        "# ma.filled() fills every False value with given new value\n",
        "result = masked.filled(0)\n",
        "result"
      ]
    },
    {
      "cell_type": "markdown",
      "metadata": {
        "id": "APa1BcZGTuAf"
      },
      "source": [
        "<h3><b>3. argsort is a feature of NumPy  that allows you to sort a NumPy array based on another NumPy array. </b></h3>\n",
        "\n",
        "This is useful if you have two separate arrays, but their data  should be in sync even if order of data is changed. For example, one array contains the prices of cars, and another contains the manufacturing years. If we wish to sort the data by manufacturing years, and keep the prices in sync as well, argsort will be handy.\n",
        "\n",
        "Useful link:\n",
        "http://arogozhnikov.github.io/2015/09/29/NumpyTipsAndTricks1.html\n",
        "\n",
        "Create two random datasets:\n",
        "\n",
        "- Manufacturing years of 10 cars, values between 2010 and 2020\n",
        "\n",
        "- Selling price of 10 cars, prices between 2000€ and 60000€\n",
        "\n",
        "Use argsort to sort both datasets according to manufacturing years.\n"
      ]
    },
    {
      "cell_type": "code",
      "execution_count": 90,
      "metadata": {
        "id": "ntoEf-eaTuAf"
      },
      "outputs": [
        {
          "name": "stdout",
          "output_type": "stream",
          "text": [
            "[2010 2012 2012 2013 2015 2016 2017 2017 2019 2020]\n",
            "[12646 21524 24639  4695 23359 58656 36017 33805 19569 19169]\n"
          ]
        }
      ],
      "source": [
        "# advanced extra exercise 3\n",
        "# Creates array with manufacturing years\n",
        "years = np.random.randint(2010,2021, 10)\n",
        "# Creates array with random prices\n",
        "sell_prices = np.random.randint(2000,60000, 10)\n",
        "sorter = np.argsort(years)\n",
        "\n",
        "print(years[sorter])\n",
        "print(sell_prices[sorter])"
      ]
    },
    {
      "cell_type": "markdown",
      "metadata": {
        "id": "U542_w-ITuAf"
      },
      "source": [
        "<h3><b>4. Try out the following additional NumPy features, and discuss in your code comments or in Jupyter Notebook text where they could be useful. You can also Google and search for ideas where these could be used. </b></h3>\n",
        "\n",
        "You can write your thoughts as comments in the code or Jupyter text as you try out each feature.\n",
        "\n",
        "- np.repeat()\n",
        "\n",
        "- np.ravel()\n",
        "\n",
        "- np.hsplit(), np.vsplit(), np.hstack, np.vstack()\n",
        "\n",
        "- np.transpose()\n",
        "\n",
        "- np.round()\n",
        "\n",
        "- np.expand_dims(), np.squeeze()\n",
        "\n",
        "- np.digitize()\n",
        "\n",
        "\n"
      ]
    },
    {
      "attachments": {},
      "cell_type": "markdown",
      "metadata": {},
      "source": [
        "<div align=\"center\"><h1>np.repeat()</h></div>"
      ]
    },
    {
      "attachments": {},
      "cell_type": "markdown",
      "metadata": {},
      "source": [
        "Function repeat() could be usefull in cases when you want to create a list of same values and don't want to use ones(), zeros() or broadcasting for that."
      ]
    },
    {
      "cell_type": "code",
      "execution_count": 91,
      "metadata": {
        "id": "qboh_9L2TuAg"
      },
      "outputs": [
        {
          "data": {
            "text/plain": [
              "array([5, 5, 5, 5, 5])"
            ]
          },
          "execution_count": 91,
          "metadata": {},
          "output_type": "execute_result"
        }
      ],
      "source": [
        "np.repeat(5,5)\n"
      ]
    },
    {
      "attachments": {},
      "cell_type": "markdown",
      "metadata": {},
      "source": [
        "Or you can repeat every element of the array"
      ]
    },
    {
      "cell_type": "code",
      "execution_count": 92,
      "metadata": {},
      "outputs": [
        {
          "name": "stdout",
          "output_type": "stream",
          "text": [
            "Here is original array - [0 1 2]\n",
            "And this is repeated array - [0 0 1 1 2 2]\n"
          ]
        }
      ],
      "source": [
        "random_array = np.arange(3)\n",
        "print(f\"Here is original array - {random_array}\")\n",
        "repeat_random_array = np.repeat(random_array, 2)\n",
        "print(f\"And this is repeated array - {repeat_random_array}\")"
      ]
    },
    {
      "attachments": {},
      "cell_type": "markdown",
      "metadata": {},
      "source": [
        "Also you can duplicate rows using axis parameter!"
      ]
    },
    {
      "cell_type": "code",
      "execution_count": 93,
      "metadata": {},
      "outputs": [
        {
          "name": "stdout",
          "output_type": "stream",
          "text": [
            "Here is original array - [[0 1 2 3 4]\n",
            " [5 6 7 8 9]]\n",
            "And this is array with repeated rows :\n",
            "[[0 1 2 3 4]\n",
            " [0 1 2 3 4]\n",
            " [5 6 7 8 9]\n",
            " [5 6 7 8 9]]\n"
          ]
        }
      ],
      "source": [
        "random_array_2d = np.arange(10).reshape(2, 5)\n",
        "print(f\"Here is original array - {random_array_2d}\")\n",
        "repeat_rows = np.repeat(random_array_2d, 2, 0)\n",
        "print(f\"And this is array with repeated rows :\\n\"\n",
        "      f\"{repeat_rows}\")"
      ]
    },
    {
      "attachments": {},
      "cell_type": "markdown",
      "metadata": {},
      "source": [
        "<div align=\"center\"><h1>np.ravel()</h></div>"
      ]
    },
    {
      "attachments": {},
      "cell_type": "markdown",
      "metadata": {},
      "source": [
        "Ravel is used to flatten the elements of multidimensional array into 1-dimensional.\n",
        "It might be usefull when you want to join arrays in certain order"
      ]
    },
    {
      "cell_type": "code",
      "execution_count": 94,
      "metadata": {},
      "outputs": [
        {
          "data": {
            "text/plain": [
              "array([[0, 1, 2, 3, 4],\n",
              "       [5, 6, 7, 8, 9]])"
            ]
          },
          "execution_count": 94,
          "metadata": {},
          "output_type": "execute_result"
        }
      ],
      "source": [
        "data_for_ravel = np.arange(10).reshape(2,5)\n",
        "data_for_ravel"
      ]
    },
    {
      "attachments": {},
      "cell_type": "markdown",
      "metadata": {},
      "source": [
        "You can use different order parameters:"
      ]
    },
    {
      "cell_type": "code",
      "execution_count": 95,
      "metadata": {},
      "outputs": [
        {
          "data": {
            "text/plain": [
              "array([0, 1, 2, 3, 4, 5, 6, 7, 8, 9])"
            ]
          },
          "execution_count": 95,
          "metadata": {},
          "output_type": "execute_result"
        }
      ],
      "source": [
        "# By default it uses \"C\" or row first order. \n",
        "ravel_example = np.ravel(data_for_ravel)\n",
        "ravel_example"
      ]
    },
    {
      "cell_type": "code",
      "execution_count": 96,
      "metadata": {},
      "outputs": [
        {
          "data": {
            "text/plain": [
              "array([0, 5, 1, 6, 2, 7, 3, 8, 4, 9])"
            ]
          },
          "execution_count": 96,
          "metadata": {},
          "output_type": "execute_result"
        }
      ],
      "source": [
        "# \"F\" order for flattening by column:\n",
        "np.ravel(data_for_ravel, order=\"F\")"
      ]
    },
    {
      "attachments": {},
      "cell_type": "markdown",
      "metadata": {},
      "source": [
        "Also with ravel() you can flatten usual Python lists!"
      ]
    },
    {
      "cell_type": "code",
      "execution_count": 97,
      "metadata": {},
      "outputs": [
        {
          "data": {
            "text/plain": [
              "array([1, 2, 3, 4, 5, 6])"
            ]
          },
          "execution_count": 97,
          "metadata": {},
          "output_type": "execute_result"
        }
      ],
      "source": [
        "random_list = [[1, 2, 3], [4, 5, 6]]\n",
        "np.ravel(random_list)"
      ]
    },
    {
      "attachments": {},
      "cell_type": "markdown",
      "metadata": {},
      "source": [
        "By the way, ravel() has a brother from another mother - method flatten().\n",
        "\n",
        "Difference between them is that ravel() is a function while flatten() is a method. \n",
        "Also, ravel creates only view of object, so broadcasting works here. Flatten produces a true copy of object "
      ]
    },
    {
      "cell_type": "code",
      "execution_count": 98,
      "metadata": {},
      "outputs": [
        {
          "data": {
            "text/plain": [
              "array([0, 1, 2, 3, 4, 5, 6, 7, 8, 9])"
            ]
          },
          "execution_count": 98,
          "metadata": {},
          "output_type": "execute_result"
        }
      ],
      "source": [
        "flatten_example = data_for_ravel.flatten()\n",
        "flatten_example"
      ]
    },
    {
      "cell_type": "code",
      "execution_count": 99,
      "metadata": {},
      "outputs": [],
      "source": [
        "# Let's change our data:\n",
        "data_for_ravel[0,0] = 100"
      ]
    },
    {
      "cell_type": "code",
      "execution_count": 100,
      "metadata": {},
      "outputs": [
        {
          "name": "stdout",
          "output_type": "stream",
          "text": [
            "[0 1 2 3 4 5 6 7 8 9]\n",
            "[100   1   2   3   4   5   6   7   8   9]\n"
          ]
        }
      ],
      "source": [
        "# Flatten created a copy of array \n",
        "# which is not affected by any changes\n",
        "print(flatten_example)\n",
        "# Ravel affected by the changes\n",
        "print(ravel_example)"
      ]
    },
    {
      "attachments": {},
      "cell_type": "markdown",
      "metadata": {},
      "source": [
        "<div align=\"center\"><h1>np.hsplit(), np.vsplit(), np.hstack, np.vstack()</h></div>\n"
      ]
    },
    {
      "attachments": {},
      "cell_type": "markdown",
      "metadata": {},
      "source": [
        "These splits might be used in cases where you would like to split matrix into different arrays vertically or horizontally. For example if data is too heavy and you want to process it in batches or if you need only one piece of data at the moment. \n",
        "\n",
        "In order to combine arrays or to bring the splitted pieces back to the original shape you can use stack functions. \n"
      ]
    },
    {
      "attachments": {},
      "cell_type": "markdown",
      "metadata": {},
      "source": [
        "<div align=\"center\"><h1>np.transpose()</h></div>"
      ]
    },
    {
      "attachments": {},
      "cell_type": "markdown",
      "metadata": {},
      "source": [
        "The np.transpose() function is used in NumPy to transpose the dimensions of an array. Transposing an array means rearranging its axes to a different order. This can be useful when working with arrays of different shapes and sizes, and can also be used to manipulate and reshape arrays for computation or data analysis."
      ]
    },
    {
      "attachments": {},
      "cell_type": "markdown",
      "metadata": {},
      "source": [
        "<div align=\"center\"><h1>np.round()</h></div>"
      ]
    },
    {
      "attachments": {},
      "cell_type": "markdown",
      "metadata": {},
      "source": [
        "This function works element-wise, meaning it rounds each element in the array separately. It can be useful when working with floating-point numbers and you want to round them to a certain precision, or when you want to convert floating-point numbers to integers."
      ]
    },
    {
      "attachments": {},
      "cell_type": "markdown",
      "metadata": {},
      "source": [
        "<div align=\"center\"><h1>np.expand_dims() and np.squeeze()</h></div>"
      ]
    },
    {
      "attachments": {},
      "cell_type": "markdown",
      "metadata": {},
      "source": [
        "This functions could be used for converting data into needed format. For example TensorFlow module requires converting oftenly"
      ]
    },
    {
      "attachments": {},
      "cell_type": "markdown",
      "metadata": {},
      "source": [
        "<div align=\"center\"><h1>np.digitize()</h></div>"
      ]
    },
    {
      "attachments": {},
      "cell_type": "markdown",
      "metadata": {},
      "source": [
        "A function in the NumPy library that returns the indices of the bins to which each value in an input array belongs. It can be used to discretize continuous data into a specified number of bins or categories. "
      ]
    }
  ],
  "metadata": {
    "colab": {
      "provenance": []
    },
    "kernelspec": {
      "display_name": "Python 3",
      "language": "python",
      "name": "python3"
    },
    "language_info": {
      "codemirror_mode": {
        "name": "ipython",
        "version": 3
      },
      "file_extension": ".py",
      "mimetype": "text/x-python",
      "name": "python",
      "nbconvert_exporter": "python",
      "pygments_lexer": "ipython3",
      "version": "3.9.13"
    },
    "vscode": {
      "interpreter": {
        "hash": "aee8b7b246df8f9039afb4144a1f6fd8d2ca17a180786b69acc140d282b71a49"
      }
    }
  },
  "nbformat": 4,
  "nbformat_minor": 0
}
